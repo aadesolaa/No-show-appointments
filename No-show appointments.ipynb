{
 "cells": [
  {
   "cell_type": "markdown",
   "id": "056000af",
   "metadata": {},
   "source": [
    "# Project: Analysis of No-Show Appointments\n",
    "## by Adegbite Moriam Adesola"
   ]
  },
  {
   "cell_type": "markdown",
   "id": "fda631f6",
   "metadata": {},
   "source": [
    "## Introduction\n",
    "The dataset analyzed in this project contains information from over 100k medical appointments in Brazil and is focused on the question of whether or not patients show up for their appointment ([No-show appointments](https://www.google.com/url?q=https://www.kaggle.com/joniarroba/noshowappointments&sa=D&ust=1532469042118000)). A number of characteristics about the patient are included in each row. The data was cleaned and analyzed to determine the factors that are important for us to know in order to predict if a patient will show up for their scheduled appointment. Specifically, the following questions are addressed:\n",
    "- What is the overall show up rate?\n",
    "- Does age affects show up rate?\n",
    "- Does gender affects show up rate?\n",
    "- Does difference between schedule day and appointment day affect show up rate?\n",
    "- Does sms reeceived affects show up rate?\n",
    "- Does hypertension, diabetes, alcoholism and handicap affect show up rate?"
   ]
  },
  {
   "cell_type": "code",
   "execution_count": 1,
   "id": "fe95ed62",
   "metadata": {},
   "outputs": [],
   "source": [
    "import pandas as pd\n",
    "import numpy as np\n",
    "import matplotlib.pyplot as plt\n",
    "%matplotlib inline"
   ]
  },
  {
   "cell_type": "markdown",
   "id": "6ae8764f",
   "metadata": {},
   "source": [
    "## Data Wrangling\n",
    "The dataset is loaded in the sections that follows and operations are performed to inspect the data"
   ]
  },
  {
   "cell_type": "markdown",
   "id": "ad204d98",
   "metadata": {},
   "source": [
    "### General Properties"
   ]
  },
  {
   "cell_type": "code",
   "execution_count": 2,
   "id": "58fe79c5",
   "metadata": {},
   "outputs": [],
   "source": [
    "df = pd.read_csv('noshowappointments.csv') #Load data"
   ]
  },
  {
   "cell_type": "code",
   "execution_count": 3,
   "id": "4a4b82fd",
   "metadata": {},
   "outputs": [
    {
     "data": {
      "text/html": [
       "<div>\n",
       "<style scoped>\n",
       "    .dataframe tbody tr th:only-of-type {\n",
       "        vertical-align: middle;\n",
       "    }\n",
       "\n",
       "    .dataframe tbody tr th {\n",
       "        vertical-align: top;\n",
       "    }\n",
       "\n",
       "    .dataframe thead th {\n",
       "        text-align: right;\n",
       "    }\n",
       "</style>\n",
       "<table border=\"1\" class=\"dataframe\">\n",
       "  <thead>\n",
       "    <tr style=\"text-align: right;\">\n",
       "      <th></th>\n",
       "      <th>PatientId</th>\n",
       "      <th>AppointmentID</th>\n",
       "      <th>Gender</th>\n",
       "      <th>ScheduledDay</th>\n",
       "      <th>AppointmentDay</th>\n",
       "      <th>Age</th>\n",
       "      <th>Neighbourhood</th>\n",
       "      <th>Scholarship</th>\n",
       "      <th>Hipertension</th>\n",
       "      <th>Diabetes</th>\n",
       "      <th>Alcoholism</th>\n",
       "      <th>Handcap</th>\n",
       "      <th>SMS_received</th>\n",
       "      <th>No-show</th>\n",
       "    </tr>\n",
       "  </thead>\n",
       "  <tbody>\n",
       "    <tr>\n",
       "      <th>0</th>\n",
       "      <td>2.987250e+13</td>\n",
       "      <td>5642903</td>\n",
       "      <td>F</td>\n",
       "      <td>2016-04-29T18:38:08Z</td>\n",
       "      <td>2016-04-29T00:00:00Z</td>\n",
       "      <td>62</td>\n",
       "      <td>JARDIM DA PENHA</td>\n",
       "      <td>0</td>\n",
       "      <td>1</td>\n",
       "      <td>0</td>\n",
       "      <td>0</td>\n",
       "      <td>0</td>\n",
       "      <td>0</td>\n",
       "      <td>No</td>\n",
       "    </tr>\n",
       "    <tr>\n",
       "      <th>1</th>\n",
       "      <td>5.589978e+14</td>\n",
       "      <td>5642503</td>\n",
       "      <td>M</td>\n",
       "      <td>2016-04-29T16:08:27Z</td>\n",
       "      <td>2016-04-29T00:00:00Z</td>\n",
       "      <td>56</td>\n",
       "      <td>JARDIM DA PENHA</td>\n",
       "      <td>0</td>\n",
       "      <td>0</td>\n",
       "      <td>0</td>\n",
       "      <td>0</td>\n",
       "      <td>0</td>\n",
       "      <td>0</td>\n",
       "      <td>No</td>\n",
       "    </tr>\n",
       "    <tr>\n",
       "      <th>2</th>\n",
       "      <td>4.262962e+12</td>\n",
       "      <td>5642549</td>\n",
       "      <td>F</td>\n",
       "      <td>2016-04-29T16:19:04Z</td>\n",
       "      <td>2016-04-29T00:00:00Z</td>\n",
       "      <td>62</td>\n",
       "      <td>MATA DA PRAIA</td>\n",
       "      <td>0</td>\n",
       "      <td>0</td>\n",
       "      <td>0</td>\n",
       "      <td>0</td>\n",
       "      <td>0</td>\n",
       "      <td>0</td>\n",
       "      <td>No</td>\n",
       "    </tr>\n",
       "    <tr>\n",
       "      <th>3</th>\n",
       "      <td>8.679512e+11</td>\n",
       "      <td>5642828</td>\n",
       "      <td>F</td>\n",
       "      <td>2016-04-29T17:29:31Z</td>\n",
       "      <td>2016-04-29T00:00:00Z</td>\n",
       "      <td>8</td>\n",
       "      <td>PONTAL DE CAMBURI</td>\n",
       "      <td>0</td>\n",
       "      <td>0</td>\n",
       "      <td>0</td>\n",
       "      <td>0</td>\n",
       "      <td>0</td>\n",
       "      <td>0</td>\n",
       "      <td>No</td>\n",
       "    </tr>\n",
       "    <tr>\n",
       "      <th>4</th>\n",
       "      <td>8.841186e+12</td>\n",
       "      <td>5642494</td>\n",
       "      <td>F</td>\n",
       "      <td>2016-04-29T16:07:23Z</td>\n",
       "      <td>2016-04-29T00:00:00Z</td>\n",
       "      <td>56</td>\n",
       "      <td>JARDIM DA PENHA</td>\n",
       "      <td>0</td>\n",
       "      <td>1</td>\n",
       "      <td>1</td>\n",
       "      <td>0</td>\n",
       "      <td>0</td>\n",
       "      <td>0</td>\n",
       "      <td>No</td>\n",
       "    </tr>\n",
       "  </tbody>\n",
       "</table>\n",
       "</div>"
      ],
      "text/plain": [
       "      PatientId  AppointmentID Gender          ScheduledDay  \\\n",
       "0  2.987250e+13        5642903      F  2016-04-29T18:38:08Z   \n",
       "1  5.589978e+14        5642503      M  2016-04-29T16:08:27Z   \n",
       "2  4.262962e+12        5642549      F  2016-04-29T16:19:04Z   \n",
       "3  8.679512e+11        5642828      F  2016-04-29T17:29:31Z   \n",
       "4  8.841186e+12        5642494      F  2016-04-29T16:07:23Z   \n",
       "\n",
       "         AppointmentDay  Age      Neighbourhood  Scholarship  Hipertension  \\\n",
       "0  2016-04-29T00:00:00Z   62    JARDIM DA PENHA            0             1   \n",
       "1  2016-04-29T00:00:00Z   56    JARDIM DA PENHA            0             0   \n",
       "2  2016-04-29T00:00:00Z   62      MATA DA PRAIA            0             0   \n",
       "3  2016-04-29T00:00:00Z    8  PONTAL DE CAMBURI            0             0   \n",
       "4  2016-04-29T00:00:00Z   56    JARDIM DA PENHA            0             1   \n",
       "\n",
       "   Diabetes  Alcoholism  Handcap  SMS_received No-show  \n",
       "0         0           0        0             0      No  \n",
       "1         0           0        0             0      No  \n",
       "2         0           0        0             0      No  \n",
       "3         0           0        0             0      No  \n",
       "4         1           0        0             0      No  "
      ]
     },
     "execution_count": 3,
     "metadata": {},
     "output_type": "execute_result"
    }
   ],
   "source": [
    "df.head() #Print first 5 rows"
   ]
  },
  {
   "cell_type": "code",
   "execution_count": 4,
   "id": "c23d49c1",
   "metadata": {},
   "outputs": [
    {
     "data": {
      "text/plain": [
       "(110527, 14)"
      ]
     },
     "execution_count": 4,
     "metadata": {},
     "output_type": "execute_result"
    }
   ],
   "source": [
    "df.shape #Number of rows and columns"
   ]
  },
  {
   "cell_type": "markdown",
   "id": "a66b48a4",
   "metadata": {},
   "source": [
    "**The dataset has 110527 rows and 14 columns.**"
   ]
  },
  {
   "cell_type": "code",
   "execution_count": 5,
   "id": "46e86136",
   "metadata": {},
   "outputs": [
    {
     "name": "stdout",
     "output_type": "stream",
     "text": [
      "<class 'pandas.core.frame.DataFrame'>\n",
      "RangeIndex: 110527 entries, 0 to 110526\n",
      "Data columns (total 14 columns):\n",
      " #   Column          Non-Null Count   Dtype  \n",
      "---  ------          --------------   -----  \n",
      " 0   PatientId       110527 non-null  float64\n",
      " 1   AppointmentID   110527 non-null  int64  \n",
      " 2   Gender          110527 non-null  object \n",
      " 3   ScheduledDay    110527 non-null  object \n",
      " 4   AppointmentDay  110527 non-null  object \n",
      " 5   Age             110527 non-null  int64  \n",
      " 6   Neighbourhood   110527 non-null  object \n",
      " 7   Scholarship     110527 non-null  int64  \n",
      " 8   Hipertension    110527 non-null  int64  \n",
      " 9   Diabetes        110527 non-null  int64  \n",
      " 10  Alcoholism      110527 non-null  int64  \n",
      " 11  Handcap         110527 non-null  int64  \n",
      " 12  SMS_received    110527 non-null  int64  \n",
      " 13  No-show         110527 non-null  object \n",
      "dtypes: float64(1), int64(8), object(5)\n",
      "memory usage: 11.8+ MB\n"
     ]
    }
   ],
   "source": [
    "df.info() #Data types and properties"
   ]
  },
  {
   "cell_type": "markdown",
   "id": "9df0501f",
   "metadata": {},
   "source": [
    "**The dataset needs to be cleaned by changing the columns names to lowercase for ease of use, the PatientId column datatype needs to be changed from float to integer, scheduled and appointment days to be converted to datetime while the appointment day time will be removed since they are all set to '00:00:00'. The scholarship, hipertension, diabetes, alcoholism, sms_received and no-show will be converted to boolean datatypes. The 'Hipertension' and 'Handcap' columns will also be renamed to 'hypertension' and 'handicap', respectively.**\n",
    "\n",
    "The dataset has no missing values."
   ]
  },
  {
   "cell_type": "code",
   "execution_count": 6,
   "id": "4d966368",
   "metadata": {},
   "outputs": [
    {
     "data": {
      "text/html": [
       "<div>\n",
       "<style scoped>\n",
       "    .dataframe tbody tr th:only-of-type {\n",
       "        vertical-align: middle;\n",
       "    }\n",
       "\n",
       "    .dataframe tbody tr th {\n",
       "        vertical-align: top;\n",
       "    }\n",
       "\n",
       "    .dataframe thead th {\n",
       "        text-align: right;\n",
       "    }\n",
       "</style>\n",
       "<table border=\"1\" class=\"dataframe\">\n",
       "  <thead>\n",
       "    <tr style=\"text-align: right;\">\n",
       "      <th></th>\n",
       "      <th>PatientId</th>\n",
       "      <th>AppointmentID</th>\n",
       "      <th>Age</th>\n",
       "      <th>Scholarship</th>\n",
       "      <th>Hipertension</th>\n",
       "      <th>Diabetes</th>\n",
       "      <th>Alcoholism</th>\n",
       "      <th>Handcap</th>\n",
       "      <th>SMS_received</th>\n",
       "    </tr>\n",
       "  </thead>\n",
       "  <tbody>\n",
       "    <tr>\n",
       "      <th>count</th>\n",
       "      <td>1.105270e+05</td>\n",
       "      <td>1.105270e+05</td>\n",
       "      <td>110527.000000</td>\n",
       "      <td>110527.000000</td>\n",
       "      <td>110527.000000</td>\n",
       "      <td>110527.000000</td>\n",
       "      <td>110527.000000</td>\n",
       "      <td>110527.000000</td>\n",
       "      <td>110527.000000</td>\n",
       "    </tr>\n",
       "    <tr>\n",
       "      <th>mean</th>\n",
       "      <td>1.474963e+14</td>\n",
       "      <td>5.675305e+06</td>\n",
       "      <td>37.088874</td>\n",
       "      <td>0.098266</td>\n",
       "      <td>0.197246</td>\n",
       "      <td>0.071865</td>\n",
       "      <td>0.030400</td>\n",
       "      <td>0.022248</td>\n",
       "      <td>0.321026</td>\n",
       "    </tr>\n",
       "    <tr>\n",
       "      <th>std</th>\n",
       "      <td>2.560949e+14</td>\n",
       "      <td>7.129575e+04</td>\n",
       "      <td>23.110205</td>\n",
       "      <td>0.297675</td>\n",
       "      <td>0.397921</td>\n",
       "      <td>0.258265</td>\n",
       "      <td>0.171686</td>\n",
       "      <td>0.161543</td>\n",
       "      <td>0.466873</td>\n",
       "    </tr>\n",
       "    <tr>\n",
       "      <th>min</th>\n",
       "      <td>3.921784e+04</td>\n",
       "      <td>5.030230e+06</td>\n",
       "      <td>-1.000000</td>\n",
       "      <td>0.000000</td>\n",
       "      <td>0.000000</td>\n",
       "      <td>0.000000</td>\n",
       "      <td>0.000000</td>\n",
       "      <td>0.000000</td>\n",
       "      <td>0.000000</td>\n",
       "    </tr>\n",
       "    <tr>\n",
       "      <th>25%</th>\n",
       "      <td>4.172614e+12</td>\n",
       "      <td>5.640286e+06</td>\n",
       "      <td>18.000000</td>\n",
       "      <td>0.000000</td>\n",
       "      <td>0.000000</td>\n",
       "      <td>0.000000</td>\n",
       "      <td>0.000000</td>\n",
       "      <td>0.000000</td>\n",
       "      <td>0.000000</td>\n",
       "    </tr>\n",
       "    <tr>\n",
       "      <th>50%</th>\n",
       "      <td>3.173184e+13</td>\n",
       "      <td>5.680573e+06</td>\n",
       "      <td>37.000000</td>\n",
       "      <td>0.000000</td>\n",
       "      <td>0.000000</td>\n",
       "      <td>0.000000</td>\n",
       "      <td>0.000000</td>\n",
       "      <td>0.000000</td>\n",
       "      <td>0.000000</td>\n",
       "    </tr>\n",
       "    <tr>\n",
       "      <th>75%</th>\n",
       "      <td>9.439172e+13</td>\n",
       "      <td>5.725524e+06</td>\n",
       "      <td>55.000000</td>\n",
       "      <td>0.000000</td>\n",
       "      <td>0.000000</td>\n",
       "      <td>0.000000</td>\n",
       "      <td>0.000000</td>\n",
       "      <td>0.000000</td>\n",
       "      <td>1.000000</td>\n",
       "    </tr>\n",
       "    <tr>\n",
       "      <th>max</th>\n",
       "      <td>9.999816e+14</td>\n",
       "      <td>5.790484e+06</td>\n",
       "      <td>115.000000</td>\n",
       "      <td>1.000000</td>\n",
       "      <td>1.000000</td>\n",
       "      <td>1.000000</td>\n",
       "      <td>1.000000</td>\n",
       "      <td>4.000000</td>\n",
       "      <td>1.000000</td>\n",
       "    </tr>\n",
       "  </tbody>\n",
       "</table>\n",
       "</div>"
      ],
      "text/plain": [
       "          PatientId  AppointmentID            Age    Scholarship  \\\n",
       "count  1.105270e+05   1.105270e+05  110527.000000  110527.000000   \n",
       "mean   1.474963e+14   5.675305e+06      37.088874       0.098266   \n",
       "std    2.560949e+14   7.129575e+04      23.110205       0.297675   \n",
       "min    3.921784e+04   5.030230e+06      -1.000000       0.000000   \n",
       "25%    4.172614e+12   5.640286e+06      18.000000       0.000000   \n",
       "50%    3.173184e+13   5.680573e+06      37.000000       0.000000   \n",
       "75%    9.439172e+13   5.725524e+06      55.000000       0.000000   \n",
       "max    9.999816e+14   5.790484e+06     115.000000       1.000000   \n",
       "\n",
       "        Hipertension       Diabetes     Alcoholism        Handcap  \\\n",
       "count  110527.000000  110527.000000  110527.000000  110527.000000   \n",
       "mean        0.197246       0.071865       0.030400       0.022248   \n",
       "std         0.397921       0.258265       0.171686       0.161543   \n",
       "min         0.000000       0.000000       0.000000       0.000000   \n",
       "25%         0.000000       0.000000       0.000000       0.000000   \n",
       "50%         0.000000       0.000000       0.000000       0.000000   \n",
       "75%         0.000000       0.000000       0.000000       0.000000   \n",
       "max         1.000000       1.000000       1.000000       4.000000   \n",
       "\n",
       "        SMS_received  \n",
       "count  110527.000000  \n",
       "mean        0.321026  \n",
       "std         0.466873  \n",
       "min         0.000000  \n",
       "25%         0.000000  \n",
       "50%         0.000000  \n",
       "75%         1.000000  \n",
       "max         1.000000  "
      ]
     },
     "execution_count": 6,
     "metadata": {},
     "output_type": "execute_result"
    }
   ],
   "source": [
    "df.describe() #Data summary"
   ]
  },
  {
   "cell_type": "markdown",
   "id": "c1b8f5d5",
   "metadata": {},
   "source": [
    "**By checking the data summary, a few abnormalities are detected that needs to be changed. Age has a lowest value of -1 which seems to be an error, therefore rows with this value will be dropped in the data cleaning section. The 'Handcap' column is also a binary column and a maximum value of 4 was detected. Rows with errorneous values of 2, 3 and 4 will also be dropped from the dataset.**"
   ]
  },
  {
   "cell_type": "code",
   "execution_count": 7,
   "id": "4c275552",
   "metadata": {},
   "outputs": [
    {
     "data": {
      "text/plain": [
       "1"
      ]
     },
     "execution_count": 7,
     "metadata": {},
     "output_type": "execute_result"
    }
   ],
   "source": [
    "len(df[df['Age']==-1]) #Number of rows with age = -1"
   ]
  },
  {
   "cell_type": "code",
   "execution_count": 8,
   "id": "b0b361f9",
   "metadata": {},
   "outputs": [
    {
     "data": {
      "text/plain": [
       "(199, 14)"
      ]
     },
     "execution_count": 8,
     "metadata": {},
     "output_type": "execute_result"
    }
   ],
   "source": [
    "handcap_errors = [2,3,4]\n",
    "he = df[df['Handcap'].isin(handcap_errors)]\n",
    "he.shape"
   ]
  },
  {
   "cell_type": "markdown",
   "id": "fd4938b9",
   "metadata": {},
   "source": [
    "**There are 199 rows with hancap values of 2, 3 and 4. These rows will be dropped in the data cleaning section.**"
   ]
  },
  {
   "cell_type": "code",
   "execution_count": 9,
   "id": "374535a9",
   "metadata": {},
   "outputs": [
    {
     "data": {
      "text/plain": [
       "0"
      ]
     },
     "execution_count": 9,
     "metadata": {},
     "output_type": "execute_result"
    }
   ],
   "source": [
    "sum(df.duplicated()) #Number of duplicated rows"
   ]
  },
  {
   "cell_type": "code",
   "execution_count": 10,
   "id": "b4a49fd8",
   "metadata": {},
   "outputs": [
    {
     "data": {
      "text/plain": [
       "PatientId          62299\n",
       "AppointmentID     110527\n",
       "Gender                 2\n",
       "ScheduledDay      103549\n",
       "AppointmentDay        27\n",
       "Age                  104\n",
       "Neighbourhood         81\n",
       "Scholarship            2\n",
       "Hipertension           2\n",
       "Diabetes               2\n",
       "Alcoholism             2\n",
       "Handcap                5\n",
       "SMS_received           2\n",
       "No-show                2\n",
       "dtype: int64"
      ]
     },
     "execution_count": 10,
     "metadata": {},
     "output_type": "execute_result"
    }
   ],
   "source": [
    "df.nunique() #Number of unique values in the dataset"
   ]
  },
  {
   "cell_type": "markdown",
   "id": "f23f91ed",
   "metadata": {},
   "source": [
    "**The above shows that there are 110527 unique appointment ID's and 62299 unique patient ID's. This means that one patient can have several appointments. ALso, with 103549 scheduled day and just 27 appointment days, the data could infer that the appointments can mean several tests scheduled at different times to the same day. Therefore, this dataset is to determine if a patient shows up for an appointment using the 'No-show' column and to determine factors responsible for this.**"
   ]
  },
  {
   "cell_type": "markdown",
   "id": "82315364",
   "metadata": {},
   "source": [
    "## Data Cleaning"
   ]
  },
  {
   "cell_type": "markdown",
   "id": "f0fc0c83",
   "metadata": {},
   "source": [
    "The following actions were performed as part of the data cleaning process:\n",
    "- Change column names to lowercase\n",
    "- Rename 'hipertension', 'handcap' and 'no-show' columns\n",
    "- Change patient id datatype to integer\n",
    "- Change schedule and appointment day datatype to datetime\n",
    "- Drop time from 'appointment day' datetime\n",
    "- Drop row with age less than 0\n",
    "- Drop rows with handicap greater than 1\n",
    "- Convert scholarship, hipertension, diabetes, alcoholism, handcap, sms_received, and no-show to boolean datatype"
   ]
  },
  {
   "cell_type": "code",
   "execution_count": 11,
   "id": "2845b8b3",
   "metadata": {},
   "outputs": [
    {
     "data": {
      "text/html": [
       "<div>\n",
       "<style scoped>\n",
       "    .dataframe tbody tr th:only-of-type {\n",
       "        vertical-align: middle;\n",
       "    }\n",
       "\n",
       "    .dataframe tbody tr th {\n",
       "        vertical-align: top;\n",
       "    }\n",
       "\n",
       "    .dataframe thead th {\n",
       "        text-align: right;\n",
       "    }\n",
       "</style>\n",
       "<table border=\"1\" class=\"dataframe\">\n",
       "  <thead>\n",
       "    <tr style=\"text-align: right;\">\n",
       "      <th></th>\n",
       "      <th>patientid</th>\n",
       "      <th>appointmentid</th>\n",
       "      <th>gender</th>\n",
       "      <th>scheduledday</th>\n",
       "      <th>appointmentday</th>\n",
       "      <th>age</th>\n",
       "      <th>neighbourhood</th>\n",
       "      <th>scholarship</th>\n",
       "      <th>hipertension</th>\n",
       "      <th>diabetes</th>\n",
       "      <th>alcoholism</th>\n",
       "      <th>handcap</th>\n",
       "      <th>sms_received</th>\n",
       "      <th>no-show</th>\n",
       "    </tr>\n",
       "  </thead>\n",
       "  <tbody>\n",
       "    <tr>\n",
       "      <th>0</th>\n",
       "      <td>2.987250e+13</td>\n",
       "      <td>5642903</td>\n",
       "      <td>F</td>\n",
       "      <td>2016-04-29T18:38:08Z</td>\n",
       "      <td>2016-04-29T00:00:00Z</td>\n",
       "      <td>62</td>\n",
       "      <td>JARDIM DA PENHA</td>\n",
       "      <td>0</td>\n",
       "      <td>1</td>\n",
       "      <td>0</td>\n",
       "      <td>0</td>\n",
       "      <td>0</td>\n",
       "      <td>0</td>\n",
       "      <td>No</td>\n",
       "    </tr>\n",
       "  </tbody>\n",
       "</table>\n",
       "</div>"
      ],
      "text/plain": [
       "      patientid  appointmentid gender          scheduledday  \\\n",
       "0  2.987250e+13        5642903      F  2016-04-29T18:38:08Z   \n",
       "\n",
       "         appointmentday  age    neighbourhood  scholarship  hipertension  \\\n",
       "0  2016-04-29T00:00:00Z   62  JARDIM DA PENHA            0             1   \n",
       "\n",
       "   diabetes  alcoholism  handcap  sms_received no-show  \n",
       "0         0           0        0             0      No  "
      ]
     },
     "execution_count": 11,
     "metadata": {},
     "output_type": "execute_result"
    }
   ],
   "source": [
    "df.columns = df.columns.str.lower() #Change column names to lowercase\n",
    "df.head(1)"
   ]
  },
  {
   "cell_type": "code",
   "execution_count": 12,
   "id": "fadfb441",
   "metadata": {},
   "outputs": [
    {
     "data": {
      "text/html": [
       "<div>\n",
       "<style scoped>\n",
       "    .dataframe tbody tr th:only-of-type {\n",
       "        vertical-align: middle;\n",
       "    }\n",
       "\n",
       "    .dataframe tbody tr th {\n",
       "        vertical-align: top;\n",
       "    }\n",
       "\n",
       "    .dataframe thead th {\n",
       "        text-align: right;\n",
       "    }\n",
       "</style>\n",
       "<table border=\"1\" class=\"dataframe\">\n",
       "  <thead>\n",
       "    <tr style=\"text-align: right;\">\n",
       "      <th></th>\n",
       "      <th>patientid</th>\n",
       "      <th>appointmentid</th>\n",
       "      <th>gender</th>\n",
       "      <th>scheduledday</th>\n",
       "      <th>appointmentday</th>\n",
       "      <th>age</th>\n",
       "      <th>neighbourhood</th>\n",
       "      <th>scholarship</th>\n",
       "      <th>hypertension</th>\n",
       "      <th>diabetes</th>\n",
       "      <th>alcoholism</th>\n",
       "      <th>handicap</th>\n",
       "      <th>sms_received</th>\n",
       "      <th>no_show</th>\n",
       "    </tr>\n",
       "  </thead>\n",
       "  <tbody>\n",
       "    <tr>\n",
       "      <th>0</th>\n",
       "      <td>2.987250e+13</td>\n",
       "      <td>5642903</td>\n",
       "      <td>F</td>\n",
       "      <td>2016-04-29T18:38:08Z</td>\n",
       "      <td>2016-04-29T00:00:00Z</td>\n",
       "      <td>62</td>\n",
       "      <td>JARDIM DA PENHA</td>\n",
       "      <td>0</td>\n",
       "      <td>1</td>\n",
       "      <td>0</td>\n",
       "      <td>0</td>\n",
       "      <td>0</td>\n",
       "      <td>0</td>\n",
       "      <td>No</td>\n",
       "    </tr>\n",
       "  </tbody>\n",
       "</table>\n",
       "</div>"
      ],
      "text/plain": [
       "      patientid  appointmentid gender          scheduledday  \\\n",
       "0  2.987250e+13        5642903      F  2016-04-29T18:38:08Z   \n",
       "\n",
       "         appointmentday  age    neighbourhood  scholarship  hypertension  \\\n",
       "0  2016-04-29T00:00:00Z   62  JARDIM DA PENHA            0             1   \n",
       "\n",
       "   diabetes  alcoholism  handicap  sms_received no_show  \n",
       "0         0           0         0             0      No  "
      ]
     },
     "execution_count": 12,
     "metadata": {},
     "output_type": "execute_result"
    }
   ],
   "source": [
    "df = df.rename(columns={\"hipertension\": \"hypertension\",\"handcap\":\"handicap\",\"no-show\":\"no_show\"}) #Rename 'hipertension', 'handcap' and 'no-show' columns \n",
    "df.head(1)"
   ]
  },
  {
   "cell_type": "code",
   "execution_count": 13,
   "id": "461a3ce5",
   "metadata": {},
   "outputs": [],
   "source": [
    "df['patientid'] = df['patientid'].astype(np.int64) #Change patient id datatype to integer"
   ]
  },
  {
   "cell_type": "code",
   "execution_count": 14,
   "id": "88764e37",
   "metadata": {},
   "outputs": [],
   "source": [
    "df[['scheduledday','appointmentday']] = df[['scheduledday','appointmentday']].apply(pd.to_datetime) #Change datatype to datetime"
   ]
  },
  {
   "cell_type": "code",
   "execution_count": 15,
   "id": "44c3a2fa",
   "metadata": {},
   "outputs": [
    {
     "data": {
      "text/plain": [
       "62299"
      ]
     },
     "execution_count": 15,
     "metadata": {},
     "output_type": "execute_result"
    }
   ],
   "source": [
    "df['patientid'].nunique() #Confirm number of unique patient id's"
   ]
  },
  {
   "cell_type": "code",
   "execution_count": 16,
   "id": "63c1168b",
   "metadata": {},
   "outputs": [],
   "source": [
    "df['appointmentday'] = df['appointmentday'].dt.date #Drop time from 'appointment day' datetime"
   ]
  },
  {
   "cell_type": "code",
   "execution_count": 17,
   "id": "305b1c47",
   "metadata": {},
   "outputs": [],
   "source": [
    "df.drop(df[df.age == -1].index, inplace = True) #Drop row with age less than 0"
   ]
  },
  {
   "cell_type": "code",
   "execution_count": 18,
   "id": "6f4b1b27",
   "metadata": {},
   "outputs": [],
   "source": [
    "df.drop(df[df.handicap > 1].index, inplace = True) #Drop rows with handcap greater than 1"
   ]
  },
  {
   "cell_type": "code",
   "execution_count": 19,
   "id": "0259e9f0",
   "metadata": {},
   "outputs": [],
   "source": [
    "df['no_show'].replace({'No':0, 'Yes':1}, inplace = True) #Replace string with int"
   ]
  },
  {
   "cell_type": "code",
   "execution_count": 20,
   "id": "21b0edde",
   "metadata": {},
   "outputs": [],
   "source": [
    "for c in ['scholarship','hypertension','diabetes','alcoholism','handicap','sms_received','no_show']:\n",
    "    df[c] = df[c].astype('bool') #Convert to boolean datatype"
   ]
  },
  {
   "cell_type": "code",
   "execution_count": 21,
   "id": "47431003",
   "metadata": {},
   "outputs": [
    {
     "data": {
      "text/plain": [
       "patientid                       int64\n",
       "appointmentid                   int64\n",
       "gender                         object\n",
       "scheduledday      datetime64[ns, UTC]\n",
       "appointmentday                 object\n",
       "age                             int64\n",
       "neighbourhood                  object\n",
       "scholarship                      bool\n",
       "hypertension                     bool\n",
       "diabetes                         bool\n",
       "alcoholism                       bool\n",
       "handicap                         bool\n",
       "sms_received                     bool\n",
       "no_show                          bool\n",
       "dtype: object"
      ]
     },
     "execution_count": 21,
     "metadata": {},
     "output_type": "execute_result"
    }
   ],
   "source": [
    "df.dtypes"
   ]
  },
  {
   "cell_type": "code",
   "execution_count": 22,
   "id": "49b4512f",
   "metadata": {},
   "outputs": [
    {
     "data": {
      "text/html": [
       "<div>\n",
       "<style scoped>\n",
       "    .dataframe tbody tr th:only-of-type {\n",
       "        vertical-align: middle;\n",
       "    }\n",
       "\n",
       "    .dataframe tbody tr th {\n",
       "        vertical-align: top;\n",
       "    }\n",
       "\n",
       "    .dataframe thead th {\n",
       "        text-align: right;\n",
       "    }\n",
       "</style>\n",
       "<table border=\"1\" class=\"dataframe\">\n",
       "  <thead>\n",
       "    <tr style=\"text-align: right;\">\n",
       "      <th></th>\n",
       "      <th>patientid</th>\n",
       "      <th>appointmentid</th>\n",
       "      <th>gender</th>\n",
       "      <th>scheduledday</th>\n",
       "      <th>appointmentday</th>\n",
       "      <th>age</th>\n",
       "      <th>neighbourhood</th>\n",
       "      <th>scholarship</th>\n",
       "      <th>hypertension</th>\n",
       "      <th>diabetes</th>\n",
       "      <th>alcoholism</th>\n",
       "      <th>handicap</th>\n",
       "      <th>sms_received</th>\n",
       "      <th>no_show</th>\n",
       "    </tr>\n",
       "  </thead>\n",
       "  <tbody>\n",
       "    <tr>\n",
       "      <th>0</th>\n",
       "      <td>29872499824296</td>\n",
       "      <td>5642903</td>\n",
       "      <td>F</td>\n",
       "      <td>2016-04-29 18:38:08+00:00</td>\n",
       "      <td>2016-04-29</td>\n",
       "      <td>62</td>\n",
       "      <td>JARDIM DA PENHA</td>\n",
       "      <td>False</td>\n",
       "      <td>True</td>\n",
       "      <td>False</td>\n",
       "      <td>False</td>\n",
       "      <td>False</td>\n",
       "      <td>False</td>\n",
       "      <td>False</td>\n",
       "    </tr>\n",
       "    <tr>\n",
       "      <th>1</th>\n",
       "      <td>558997776694438</td>\n",
       "      <td>5642503</td>\n",
       "      <td>M</td>\n",
       "      <td>2016-04-29 16:08:27+00:00</td>\n",
       "      <td>2016-04-29</td>\n",
       "      <td>56</td>\n",
       "      <td>JARDIM DA PENHA</td>\n",
       "      <td>False</td>\n",
       "      <td>False</td>\n",
       "      <td>False</td>\n",
       "      <td>False</td>\n",
       "      <td>False</td>\n",
       "      <td>False</td>\n",
       "      <td>False</td>\n",
       "    </tr>\n",
       "    <tr>\n",
       "      <th>2</th>\n",
       "      <td>4262962299951</td>\n",
       "      <td>5642549</td>\n",
       "      <td>F</td>\n",
       "      <td>2016-04-29 16:19:04+00:00</td>\n",
       "      <td>2016-04-29</td>\n",
       "      <td>62</td>\n",
       "      <td>MATA DA PRAIA</td>\n",
       "      <td>False</td>\n",
       "      <td>False</td>\n",
       "      <td>False</td>\n",
       "      <td>False</td>\n",
       "      <td>False</td>\n",
       "      <td>False</td>\n",
       "      <td>False</td>\n",
       "    </tr>\n",
       "    <tr>\n",
       "      <th>3</th>\n",
       "      <td>867951213174</td>\n",
       "      <td>5642828</td>\n",
       "      <td>F</td>\n",
       "      <td>2016-04-29 17:29:31+00:00</td>\n",
       "      <td>2016-04-29</td>\n",
       "      <td>8</td>\n",
       "      <td>PONTAL DE CAMBURI</td>\n",
       "      <td>False</td>\n",
       "      <td>False</td>\n",
       "      <td>False</td>\n",
       "      <td>False</td>\n",
       "      <td>False</td>\n",
       "      <td>False</td>\n",
       "      <td>False</td>\n",
       "    </tr>\n",
       "    <tr>\n",
       "      <th>4</th>\n",
       "      <td>8841186448183</td>\n",
       "      <td>5642494</td>\n",
       "      <td>F</td>\n",
       "      <td>2016-04-29 16:07:23+00:00</td>\n",
       "      <td>2016-04-29</td>\n",
       "      <td>56</td>\n",
       "      <td>JARDIM DA PENHA</td>\n",
       "      <td>False</td>\n",
       "      <td>True</td>\n",
       "      <td>True</td>\n",
       "      <td>False</td>\n",
       "      <td>False</td>\n",
       "      <td>False</td>\n",
       "      <td>False</td>\n",
       "    </tr>\n",
       "  </tbody>\n",
       "</table>\n",
       "</div>"
      ],
      "text/plain": [
       "         patientid  appointmentid gender              scheduledday  \\\n",
       "0   29872499824296        5642903      F 2016-04-29 18:38:08+00:00   \n",
       "1  558997776694438        5642503      M 2016-04-29 16:08:27+00:00   \n",
       "2    4262962299951        5642549      F 2016-04-29 16:19:04+00:00   \n",
       "3     867951213174        5642828      F 2016-04-29 17:29:31+00:00   \n",
       "4    8841186448183        5642494      F 2016-04-29 16:07:23+00:00   \n",
       "\n",
       "  appointmentday  age      neighbourhood  scholarship  hypertension  diabetes  \\\n",
       "0     2016-04-29   62    JARDIM DA PENHA        False          True     False   \n",
       "1     2016-04-29   56    JARDIM DA PENHA        False         False     False   \n",
       "2     2016-04-29   62      MATA DA PRAIA        False         False     False   \n",
       "3     2016-04-29    8  PONTAL DE CAMBURI        False         False     False   \n",
       "4     2016-04-29   56    JARDIM DA PENHA        False          True      True   \n",
       "\n",
       "   alcoholism  handicap  sms_received  no_show  \n",
       "0       False     False         False    False  \n",
       "1       False     False         False    False  \n",
       "2       False     False         False    False  \n",
       "3       False     False         False    False  \n",
       "4       False     False         False    False  "
      ]
     },
     "execution_count": 22,
     "metadata": {},
     "output_type": "execute_result"
    }
   ],
   "source": [
    "df.head()"
   ]
  },
  {
   "cell_type": "code",
   "execution_count": 23,
   "id": "3ea5d529",
   "metadata": {},
   "outputs": [
    {
     "data": {
      "text/plain": [
       "(110327, 14)"
      ]
     },
     "execution_count": 23,
     "metadata": {},
     "output_type": "execute_result"
    }
   ],
   "source": [
    "df.shape"
   ]
  },
  {
   "cell_type": "markdown",
   "id": "9f171237",
   "metadata": {},
   "source": [
    "**After data cleaning, there were 110327 rows and 14 columns left. A total of 200 rows were dropped.**"
   ]
  },
  {
   "cell_type": "markdown",
   "id": "f9027ab5",
   "metadata": {},
   "source": [
    "## Exploratory Data Analysis"
   ]
  },
  {
   "cell_type": "code",
   "execution_count": 24,
   "id": "af6dd881",
   "metadata": {},
   "outputs": [],
   "source": [
    "#Define function to create pie charts of variables\n",
    "def df_plot(df, variable):\n",
    "    df[variable].value_counts().plot(kind='pie', autopct='%1.1f%%', title = 'Percentage of appointments by ' + variable)"
   ]
  },
  {
   "cell_type": "code",
   "execution_count": 25,
   "id": "e7816c3f",
   "metadata": {},
   "outputs": [],
   "source": [
    "#Define function to create bar plots for two variables\n",
    "def df_bar(df, var1, var2):\n",
    "    df[[var1, var2]].value_counts().plot(kind='bar', title = 'Plot of ' + var1 +' and ' + var2 + ' appointments')"
   ]
  },
  {
   "cell_type": "markdown",
   "id": "6cb269e8",
   "metadata": {},
   "source": [
    "### 1. Frequency of no-show appointments"
   ]
  },
  {
   "cell_type": "code",
   "execution_count": 26,
   "id": "5d6c527f",
   "metadata": {},
   "outputs": [
    {
     "data": {
      "image/png": "[encoded data removed]",
      "text/plain": [
       "<Figure size 640x480 with 1 Axes>"
      ]
     },
     "metadata": {},
     "output_type": "display_data"
    }
   ],
   "source": [
    "df_plot(df, 'no_show')"
   ]
  },
  {
   "cell_type": "markdown",
   "id": "f9bd21df",
   "metadata": {},
   "source": [
    "**The pie chart above shows that out of the total 110327 appointments recorded, 20.2% were missed**"
   ]
  },
  {
   "cell_type": "code",
   "execution_count": 27,
   "id": "4dbd8cdc",
   "metadata": {},
   "outputs": [
    {
     "data": {
      "text/plain": [
       "no_show\n",
       "False    88049\n",
       "True     22278\n",
       "Name: no_show, dtype: int64"
      ]
     },
     "execution_count": 27,
     "metadata": {},
     "output_type": "execute_result"
    }
   ],
   "source": [
    "#Number of no-show appointments \n",
    "no_show_counts = df.groupby('no_show')['no_show'].count()\n",
    "no_show_counts"
   ]
  },
  {
   "cell_type": "markdown",
   "id": "7f0aca24",
   "metadata": {},
   "source": [
    "### 2. Distribution of age"
   ]
  },
  {
   "cell_type": "code",
   "execution_count": 28,
   "id": "ba70ca0c",
   "metadata": {},
   "outputs": [
    {
     "data": {
      "image/png": "[encoded data removed]",
      "text/plain": [
       "<Figure size 640x480 with 1 Axes>"
      ]
     },
     "metadata": {},
     "output_type": "display_data"
    }
   ],
   "source": [
    "df['age'].hist()\n",
    "plt.title('Age Distribution');"
   ]
  },
  {
   "cell_type": "code",
   "execution_count": 29,
   "id": "11d41d75",
   "metadata": {},
   "outputs": [
    {
     "data": {
      "text/html": [
       "<div>\n",
       "<style scoped>\n",
       "    .dataframe tbody tr th:only-of-type {\n",
       "        vertical-align: middle;\n",
       "    }\n",
       "\n",
       "    .dataframe tbody tr th {\n",
       "        vertical-align: top;\n",
       "    }\n",
       "\n",
       "    .dataframe thead th {\n",
       "        text-align: right;\n",
       "    }\n",
       "</style>\n",
       "<table border=\"1\" class=\"dataframe\">\n",
       "  <thead>\n",
       "    <tr style=\"text-align: right;\">\n",
       "      <th></th>\n",
       "      <th>patientid</th>\n",
       "      <th>appointmentid</th>\n",
       "      <th>gender</th>\n",
       "      <th>scheduledday</th>\n",
       "      <th>appointmentday</th>\n",
       "      <th>age</th>\n",
       "      <th>neighbourhood</th>\n",
       "      <th>scholarship</th>\n",
       "      <th>hypertension</th>\n",
       "      <th>diabetes</th>\n",
       "      <th>alcoholism</th>\n",
       "      <th>handicap</th>\n",
       "      <th>sms_received</th>\n",
       "      <th>no_show</th>\n",
       "      <th>age_range</th>\n",
       "    </tr>\n",
       "  </thead>\n",
       "  <tbody>\n",
       "    <tr>\n",
       "      <th>0</th>\n",
       "      <td>29872499824296</td>\n",
       "      <td>5642903</td>\n",
       "      <td>F</td>\n",
       "      <td>2016-04-29 18:38:08+00:00</td>\n",
       "      <td>2016-04-29</td>\n",
       "      <td>62</td>\n",
       "      <td>JARDIM DA PENHA</td>\n",
       "      <td>False</td>\n",
       "      <td>True</td>\n",
       "      <td>False</td>\n",
       "      <td>False</td>\n",
       "      <td>False</td>\n",
       "      <td>False</td>\n",
       "      <td>False</td>\n",
       "      <td>61-80</td>\n",
       "    </tr>\n",
       "    <tr>\n",
       "      <th>1</th>\n",
       "      <td>558997776694438</td>\n",
       "      <td>5642503</td>\n",
       "      <td>M</td>\n",
       "      <td>2016-04-29 16:08:27+00:00</td>\n",
       "      <td>2016-04-29</td>\n",
       "      <td>56</td>\n",
       "      <td>JARDIM DA PENHA</td>\n",
       "      <td>False</td>\n",
       "      <td>False</td>\n",
       "      <td>False</td>\n",
       "      <td>False</td>\n",
       "      <td>False</td>\n",
       "      <td>False</td>\n",
       "      <td>False</td>\n",
       "      <td>41-60</td>\n",
       "    </tr>\n",
       "    <tr>\n",
       "      <th>2</th>\n",
       "      <td>4262962299951</td>\n",
       "      <td>5642549</td>\n",
       "      <td>F</td>\n",
       "      <td>2016-04-29 16:19:04+00:00</td>\n",
       "      <td>2016-04-29</td>\n",
       "      <td>62</td>\n",
       "      <td>MATA DA PRAIA</td>\n",
       "      <td>False</td>\n",
       "      <td>False</td>\n",
       "      <td>False</td>\n",
       "      <td>False</td>\n",
       "      <td>False</td>\n",
       "      <td>False</td>\n",
       "      <td>False</td>\n",
       "      <td>61-80</td>\n",
       "    </tr>\n",
       "    <tr>\n",
       "      <th>3</th>\n",
       "      <td>867951213174</td>\n",
       "      <td>5642828</td>\n",
       "      <td>F</td>\n",
       "      <td>2016-04-29 17:29:31+00:00</td>\n",
       "      <td>2016-04-29</td>\n",
       "      <td>8</td>\n",
       "      <td>PONTAL DE CAMBURI</td>\n",
       "      <td>False</td>\n",
       "      <td>False</td>\n",
       "      <td>False</td>\n",
       "      <td>False</td>\n",
       "      <td>False</td>\n",
       "      <td>False</td>\n",
       "      <td>False</td>\n",
       "      <td>0-20</td>\n",
       "    </tr>\n",
       "    <tr>\n",
       "      <th>4</th>\n",
       "      <td>8841186448183</td>\n",
       "      <td>5642494</td>\n",
       "      <td>F</td>\n",
       "      <td>2016-04-29 16:07:23+00:00</td>\n",
       "      <td>2016-04-29</td>\n",
       "      <td>56</td>\n",
       "      <td>JARDIM DA PENHA</td>\n",
       "      <td>False</td>\n",
       "      <td>True</td>\n",
       "      <td>True</td>\n",
       "      <td>False</td>\n",
       "      <td>False</td>\n",
       "      <td>False</td>\n",
       "      <td>False</td>\n",
       "      <td>41-60</td>\n",
       "    </tr>\n",
       "  </tbody>\n",
       "</table>\n",
       "</div>"
      ],
      "text/plain": [
       "         patientid  appointmentid gender              scheduledday  \\\n",
       "0   29872499824296        5642903      F 2016-04-29 18:38:08+00:00   \n",
       "1  558997776694438        5642503      M 2016-04-29 16:08:27+00:00   \n",
       "2    4262962299951        5642549      F 2016-04-29 16:19:04+00:00   \n",
       "3     867951213174        5642828      F 2016-04-29 17:29:31+00:00   \n",
       "4    8841186448183        5642494      F 2016-04-29 16:07:23+00:00   \n",
       "\n",
       "  appointmentday  age      neighbourhood  scholarship  hypertension  diabetes  \\\n",
       "0     2016-04-29   62    JARDIM DA PENHA        False          True     False   \n",
       "1     2016-04-29   56    JARDIM DA PENHA        False         False     False   \n",
       "2     2016-04-29   62      MATA DA PRAIA        False         False     False   \n",
       "3     2016-04-29    8  PONTAL DE CAMBURI        False         False     False   \n",
       "4     2016-04-29   56    JARDIM DA PENHA        False          True      True   \n",
       "\n",
       "   alcoholism  handicap  sms_received  no_show age_range  \n",
       "0       False     False         False    False     61-80  \n",
       "1       False     False         False    False     41-60  \n",
       "2       False     False         False    False     61-80  \n",
       "3       False     False         False    False      0-20  \n",
       "4       False     False         False    False     41-60  "
      ]
     },
     "execution_count": 29,
     "metadata": {},
     "output_type": "execute_result"
    }
   ],
   "source": [
    "bins = [0,20,40,60,80,100,120]\n",
    "labels = ['0-20','21-40','41-60','61-80','81-100','>100']\n",
    "df['age_range'] = pd.cut(df['age'], bins=bins, labels=labels)\n",
    "df.head()"
   ]
  },
  {
   "cell_type": "code",
   "execution_count": 30,
   "id": "06f4967f",
   "metadata": {},
   "outputs": [
    {
     "data": {
      "text/plain": [
       "age_range\n",
       "0-20      28258\n",
       "21-40     28798\n",
       "41-60     30041\n",
       "61-80     16877\n",
       "81-100     2807\n",
       ">100          7\n",
       "Name: age_range, dtype: int64"
      ]
     },
     "execution_count": 30,
     "metadata": {},
     "output_type": "execute_result"
    }
   ],
   "source": [
    "df.groupby('age_range')['age_range'].count() #Categorizing the ages"
   ]
  },
  {
   "cell_type": "code",
   "execution_count": 31,
   "id": "0311681b",
   "metadata": {},
   "outputs": [
    {
     "data": {
      "image/png": "[encoded data removed]",
      "text/plain": [
       "<Figure size 640x480 with 1 Axes>"
      ]
     },
     "metadata": {},
     "output_type": "display_data"
    }
   ],
   "source": [
    "df['age_range'].value_counts().plot(kind='bar', title = 'Age Range Dsitribution') #Graph of age categories\n",
    "plt.xlabel('Age Range')\n",
    "plt.ylabel('Count');"
   ]
  },
  {
   "cell_type": "markdown",
   "id": "c7691fba",
   "metadata": {},
   "source": [
    "**Patients between the ages of 41 and 60 booked the highest number of appointments while patients above the age of 100 booked the least number of appointments.**"
   ]
  },
  {
   "cell_type": "code",
   "execution_count": 32,
   "id": "6d61c72c",
   "metadata": {},
   "outputs": [
    {
     "data": {
      "image/png": "[encoded data removed]",
      "text/plain": [
       "<Figure size 640x480 with 1 Axes>"
      ]
     },
     "metadata": {},
     "output_type": "display_data"
    }
   ],
   "source": [
    "df_bar(df, 'age_range', 'no_show')"
   ]
  },
  {
   "cell_type": "markdown",
   "id": "16b6bfe6",
   "metadata": {},
   "source": [
    "**Patients between the ages of 21-40 missed the most number of appointments and they are closely followed by patients in the age range of 0-20. Though most patients are in the age range of 41-60, the chart shows that they have the 3rd highest number of missed appointments.**"
   ]
  },
  {
   "cell_type": "markdown",
   "id": "2e785af0",
   "metadata": {},
   "source": [
    "### 3. Gender distribution"
   ]
  },
  {
   "cell_type": "code",
   "execution_count": 33,
   "id": "df57c265",
   "metadata": {},
   "outputs": [
    {
     "data": {
      "image/png": "[encoded data removed]",
      "text/plain": [
       "<Figure size 640x480 with 1 Axes>"
      ]
     },
     "metadata": {},
     "output_type": "display_data"
    }
   ],
   "source": [
    "df_plot(df, 'gender')"
   ]
  },
  {
   "cell_type": "markdown",
   "id": "993988cb",
   "metadata": {},
   "source": [
    "**65% of the appointments were booked by females while 35% were booked by males.**"
   ]
  },
  {
   "cell_type": "code",
   "execution_count": 34,
   "id": "5f11dfde",
   "metadata": {},
   "outputs": [
    {
     "data": {
      "image/png": "[encoded data removed]",
      "text/plain": [
       "<Figure size 640x480 with 1 Axes>"
      ]
     },
     "metadata": {},
     "output_type": "display_data"
    }
   ],
   "source": [
    "df[['gender','no_show']].value_counts().plot(kind='pie', autopct='%1.1f%%', title='Percentages of Missed Apppointments by Gender');"
   ]
  },
  {
   "cell_type": "markdown",
   "id": "a706e841",
   "metadata": {},
   "source": [
    "**7% of 35% of appointments booked by males were missed while 13.2% of 65% of appointments booked by females were missed.**"
   ]
  },
  {
   "cell_type": "markdown",
   "id": "9cbadbcd",
   "metadata": {},
   "source": [
    "**Calculation of mean of missed appointments by gender.**"
   ]
  },
  {
   "cell_type": "code",
   "execution_count": 35,
   "id": "63b1d75b",
   "metadata": {},
   "outputs": [
    {
     "data": {
      "text/plain": [
       "F    71730\n",
       "M    38597\n",
       "Name: gender, dtype: int64"
      ]
     },
     "execution_count": 35,
     "metadata": {},
     "output_type": "execute_result"
    }
   ],
   "source": [
    "gender_sum = df['gender'].value_counts()\n",
    "gender_sum"
   ]
  },
  {
   "cell_type": "code",
   "execution_count": 36,
   "id": "7ae18f84",
   "metadata": {},
   "outputs": [
    {
     "data": {
      "text/plain": [
       "gender  no_show\n",
       "F       False      57162\n",
       "M       False      30887\n",
       "F       True       14568\n",
       "M       True        7710\n",
       "dtype: int64"
      ]
     },
     "execution_count": 36,
     "metadata": {},
     "output_type": "execute_result"
    }
   ],
   "source": [
    "noshow_by_gender = df[['gender','no_show']].value_counts()\n",
    "noshow_by_gender"
   ]
  },
  {
   "cell_type": "code",
   "execution_count": 37,
   "id": "c9b3bf8b",
   "metadata": {},
   "outputs": [
    {
     "data": {
      "text/plain": [
       "no_show\n",
       "False    0.796905\n",
       "True     0.203095\n",
       "dtype: float64"
      ]
     },
     "execution_count": 37,
     "metadata": {},
     "output_type": "execute_result"
    }
   ],
   "source": [
    "no_show_mean_female = noshow_by_gender['F']/gender_sum['F']\n",
    "no_show_mean_female"
   ]
  },
  {
   "cell_type": "code",
   "execution_count": 38,
   "id": "ea9264f8",
   "metadata": {},
   "outputs": [
    {
     "data": {
      "text/plain": [
       "no_show\n",
       "False    0.800244\n",
       "True     0.199756\n",
       "dtype: float64"
      ]
     },
     "execution_count": 38,
     "metadata": {},
     "output_type": "execute_result"
    }
   ],
   "source": [
    "no_show_mean_male = noshow_by_gender['M']/gender_sum['M']\n",
    "no_show_mean_male"
   ]
  },
  {
   "cell_type": "markdown",
   "id": "0072bbe0",
   "metadata": {},
   "source": [
    "**Calculation the mean of no shows by each gender shows that there is only a 0.003 difference between the rate females and males miss their appointments.**"
   ]
  },
  {
   "cell_type": "markdown",
   "id": "f3493d1e",
   "metadata": {},
   "source": [
    "### 4. Scheduled and appointment days"
   ]
  },
  {
   "cell_type": "code",
   "execution_count": 39,
   "id": "d78a158f",
   "metadata": {},
   "outputs": [],
   "source": [
    "#Convert scheduled day to date and time\n",
    "df['sch_date'] = df['scheduledday'].dt.date\n",
    "df['sch_time'] = df['scheduledday'].dt.time"
   ]
  },
  {
   "cell_type": "code",
   "execution_count": 40,
   "id": "000a87eb",
   "metadata": {},
   "outputs": [],
   "source": [
    "#Change datatype to datetime\n",
    "df['appointmentday'] = pd.to_datetime(df['appointmentday'])\n",
    "df['sch_date'] = pd.to_datetime(df['sch_date'])"
   ]
  },
  {
   "cell_type": "code",
   "execution_count": 41,
   "id": "5f38ef3b",
   "metadata": {},
   "outputs": [
    {
     "data": {
      "text/plain": [
       "Timestamp('2015-11-10 00:00:00')"
      ]
     },
     "execution_count": 41,
     "metadata": {},
     "output_type": "execute_result"
    }
   ],
   "source": [
    "df['sch_date'].min() #Scheduling start date"
   ]
  },
  {
   "cell_type": "code",
   "execution_count": 42,
   "id": "0c379ccf",
   "metadata": {},
   "outputs": [
    {
     "data": {
      "text/plain": [
       "Timestamp('2016-06-08 00:00:00')"
      ]
     },
     "execution_count": 42,
     "metadata": {},
     "output_type": "execute_result"
    }
   ],
   "source": [
    "df['sch_date'].max() #Scheduling end date"
   ]
  },
  {
   "cell_type": "code",
   "execution_count": 43,
   "id": "270e5a3a",
   "metadata": {},
   "outputs": [
    {
     "data": {
      "text/plain": [
       "Timestamp('2016-04-29 00:00:00')"
      ]
     },
     "execution_count": 43,
     "metadata": {},
     "output_type": "execute_result"
    }
   ],
   "source": [
    "df['appointmentday'].min() #Appointment start date"
   ]
  },
  {
   "cell_type": "code",
   "execution_count": 44,
   "id": "31bb5114",
   "metadata": {},
   "outputs": [
    {
     "data": {
      "text/plain": [
       "Timestamp('2016-06-08 00:00:00')"
      ]
     },
     "execution_count": 44,
     "metadata": {},
     "output_type": "execute_result"
    }
   ],
   "source": [
    "df['appointmentday'].max() #Appointment end date"
   ]
  },
  {
   "cell_type": "code",
   "execution_count": 45,
   "id": "b63dd28a",
   "metadata": {},
   "outputs": [],
   "source": [
    "#Number of days between scheduled date and appointment date\n",
    "df['days'] = df['appointmentday']-df['sch_date']"
   ]
  },
  {
   "cell_type": "code",
   "execution_count": 46,
   "id": "d8514399",
   "metadata": {},
   "outputs": [
    {
     "data": {
      "text/html": [
       "<div>\n",
       "<style scoped>\n",
       "    .dataframe tbody tr th:only-of-type {\n",
       "        vertical-align: middle;\n",
       "    }\n",
       "\n",
       "    .dataframe tbody tr th {\n",
       "        vertical-align: top;\n",
       "    }\n",
       "\n",
       "    .dataframe thead th {\n",
       "        text-align: right;\n",
       "    }\n",
       "</style>\n",
       "<table border=\"1\" class=\"dataframe\">\n",
       "  <thead>\n",
       "    <tr style=\"text-align: right;\">\n",
       "      <th></th>\n",
       "      <th>patientid</th>\n",
       "      <th>appointmentid</th>\n",
       "      <th>gender</th>\n",
       "      <th>scheduledday</th>\n",
       "      <th>appointmentday</th>\n",
       "      <th>age</th>\n",
       "      <th>neighbourhood</th>\n",
       "      <th>scholarship</th>\n",
       "      <th>hypertension</th>\n",
       "      <th>diabetes</th>\n",
       "      <th>alcoholism</th>\n",
       "      <th>handicap</th>\n",
       "      <th>sms_received</th>\n",
       "      <th>no_show</th>\n",
       "      <th>age_range</th>\n",
       "      <th>sch_date</th>\n",
       "      <th>sch_time</th>\n",
       "      <th>days</th>\n",
       "    </tr>\n",
       "  </thead>\n",
       "  <tbody>\n",
       "    <tr>\n",
       "      <th>0</th>\n",
       "      <td>29872499824296</td>\n",
       "      <td>5642903</td>\n",
       "      <td>F</td>\n",
       "      <td>2016-04-29 18:38:08+00:00</td>\n",
       "      <td>2016-04-29</td>\n",
       "      <td>62</td>\n",
       "      <td>JARDIM DA PENHA</td>\n",
       "      <td>False</td>\n",
       "      <td>True</td>\n",
       "      <td>False</td>\n",
       "      <td>False</td>\n",
       "      <td>False</td>\n",
       "      <td>False</td>\n",
       "      <td>False</td>\n",
       "      <td>61-80</td>\n",
       "      <td>2016-04-29</td>\n",
       "      <td>18:38:08</td>\n",
       "      <td>0 days</td>\n",
       "    </tr>\n",
       "    <tr>\n",
       "      <th>1</th>\n",
       "      <td>558997776694438</td>\n",
       "      <td>5642503</td>\n",
       "      <td>M</td>\n",
       "      <td>2016-04-29 16:08:27+00:00</td>\n",
       "      <td>2016-04-29</td>\n",
       "      <td>56</td>\n",
       "      <td>JARDIM DA PENHA</td>\n",
       "      <td>False</td>\n",
       "      <td>False</td>\n",
       "      <td>False</td>\n",
       "      <td>False</td>\n",
       "      <td>False</td>\n",
       "      <td>False</td>\n",
       "      <td>False</td>\n",
       "      <td>41-60</td>\n",
       "      <td>2016-04-29</td>\n",
       "      <td>16:08:27</td>\n",
       "      <td>0 days</td>\n",
       "    </tr>\n",
       "    <tr>\n",
       "      <th>2</th>\n",
       "      <td>4262962299951</td>\n",
       "      <td>5642549</td>\n",
       "      <td>F</td>\n",
       "      <td>2016-04-29 16:19:04+00:00</td>\n",
       "      <td>2016-04-29</td>\n",
       "      <td>62</td>\n",
       "      <td>MATA DA PRAIA</td>\n",
       "      <td>False</td>\n",
       "      <td>False</td>\n",
       "      <td>False</td>\n",
       "      <td>False</td>\n",
       "      <td>False</td>\n",
       "      <td>False</td>\n",
       "      <td>False</td>\n",
       "      <td>61-80</td>\n",
       "      <td>2016-04-29</td>\n",
       "      <td>16:19:04</td>\n",
       "      <td>0 days</td>\n",
       "    </tr>\n",
       "    <tr>\n",
       "      <th>3</th>\n",
       "      <td>867951213174</td>\n",
       "      <td>5642828</td>\n",
       "      <td>F</td>\n",
       "      <td>2016-04-29 17:29:31+00:00</td>\n",
       "      <td>2016-04-29</td>\n",
       "      <td>8</td>\n",
       "      <td>PONTAL DE CAMBURI</td>\n",
       "      <td>False</td>\n",
       "      <td>False</td>\n",
       "      <td>False</td>\n",
       "      <td>False</td>\n",
       "      <td>False</td>\n",
       "      <td>False</td>\n",
       "      <td>False</td>\n",
       "      <td>0-20</td>\n",
       "      <td>2016-04-29</td>\n",
       "      <td>17:29:31</td>\n",
       "      <td>0 days</td>\n",
       "    </tr>\n",
       "    <tr>\n",
       "      <th>4</th>\n",
       "      <td>8841186448183</td>\n",
       "      <td>5642494</td>\n",
       "      <td>F</td>\n",
       "      <td>2016-04-29 16:07:23+00:00</td>\n",
       "      <td>2016-04-29</td>\n",
       "      <td>56</td>\n",
       "      <td>JARDIM DA PENHA</td>\n",
       "      <td>False</td>\n",
       "      <td>True</td>\n",
       "      <td>True</td>\n",
       "      <td>False</td>\n",
       "      <td>False</td>\n",
       "      <td>False</td>\n",
       "      <td>False</td>\n",
       "      <td>41-60</td>\n",
       "      <td>2016-04-29</td>\n",
       "      <td>16:07:23</td>\n",
       "      <td>0 days</td>\n",
       "    </tr>\n",
       "  </tbody>\n",
       "</table>\n",
       "</div>"
      ],
      "text/plain": [
       "         patientid  appointmentid gender              scheduledday  \\\n",
       "0   29872499824296        5642903      F 2016-04-29 18:38:08+00:00   \n",
       "1  558997776694438        5642503      M 2016-04-29 16:08:27+00:00   \n",
       "2    4262962299951        5642549      F 2016-04-29 16:19:04+00:00   \n",
       "3     867951213174        5642828      F 2016-04-29 17:29:31+00:00   \n",
       "4    8841186448183        5642494      F 2016-04-29 16:07:23+00:00   \n",
       "\n",
       "  appointmentday  age      neighbourhood  scholarship  hypertension  diabetes  \\\n",
       "0     2016-04-29   62    JARDIM DA PENHA        False          True     False   \n",
       "1     2016-04-29   56    JARDIM DA PENHA        False         False     False   \n",
       "2     2016-04-29   62      MATA DA PRAIA        False         False     False   \n",
       "3     2016-04-29    8  PONTAL DE CAMBURI        False         False     False   \n",
       "4     2016-04-29   56    JARDIM DA PENHA        False          True      True   \n",
       "\n",
       "   alcoholism  handicap  sms_received  no_show age_range   sch_date  sch_time  \\\n",
       "0       False     False         False    False     61-80 2016-04-29  18:38:08   \n",
       "1       False     False         False    False     41-60 2016-04-29  16:08:27   \n",
       "2       False     False         False    False     61-80 2016-04-29  16:19:04   \n",
       "3       False     False         False    False      0-20 2016-04-29  17:29:31   \n",
       "4       False     False         False    False     41-60 2016-04-29  16:07:23   \n",
       "\n",
       "    days  \n",
       "0 0 days  \n",
       "1 0 days  \n",
       "2 0 days  \n",
       "3 0 days  \n",
       "4 0 days  "
      ]
     },
     "execution_count": 46,
     "metadata": {},
     "output_type": "execute_result"
    }
   ],
   "source": [
    "df.head()"
   ]
  },
  {
   "cell_type": "code",
   "execution_count": 47,
   "id": "06656672",
   "metadata": {},
   "outputs": [
    {
     "data": {
      "text/plain": [
       "count                        110327\n",
       "mean     10 days 04:29:14.333934576\n",
       "std      15 days 06:11:17.038357920\n",
       "min               -6 days +00:00:00\n",
       "25%                 0 days 00:00:00\n",
       "50%                 4 days 00:00:00\n",
       "75%                15 days 00:00:00\n",
       "max               179 days 00:00:00\n",
       "Name: days, dtype: object"
      ]
     },
     "execution_count": 47,
     "metadata": {},
     "output_type": "execute_result"
    }
   ],
   "source": [
    "df['days'].describe()"
   ]
  },
  {
   "cell_type": "markdown",
   "id": "8e5a2eb9",
   "metadata": {},
   "source": [
    "**The average waiting period between schedule and appointment dates is 10 days. 25% and 50% of the appointments had a waiting period of 0 and 4 days, respectively, while 75% of the patients waited for 15 days, that is, 25% of the appointments has a waiting period of above 15 days with a maximum waiting period of 179 days. However, the minimum period is -6 days. This figure is explored further in the following sections.**"
   ]
  },
  {
   "cell_type": "code",
   "execution_count": 48,
   "id": "32d3f6c1",
   "metadata": {},
   "outputs": [
    {
     "data": {
      "text/html": [
       "<div>\n",
       "<style scoped>\n",
       "    .dataframe tbody tr th:only-of-type {\n",
       "        vertical-align: middle;\n",
       "    }\n",
       "\n",
       "    .dataframe tbody tr th {\n",
       "        vertical-align: top;\n",
       "    }\n",
       "\n",
       "    .dataframe thead th {\n",
       "        text-align: right;\n",
       "    }\n",
       "</style>\n",
       "<table border=\"1\" class=\"dataframe\">\n",
       "  <thead>\n",
       "    <tr style=\"text-align: right;\">\n",
       "      <th></th>\n",
       "      <th>patientid</th>\n",
       "      <th>appointmentid</th>\n",
       "      <th>gender</th>\n",
       "      <th>scheduledday</th>\n",
       "      <th>appointmentday</th>\n",
       "      <th>age</th>\n",
       "      <th>neighbourhood</th>\n",
       "      <th>scholarship</th>\n",
       "      <th>hypertension</th>\n",
       "      <th>diabetes</th>\n",
       "      <th>alcoholism</th>\n",
       "      <th>handicap</th>\n",
       "      <th>sms_received</th>\n",
       "      <th>no_show</th>\n",
       "      <th>age_range</th>\n",
       "      <th>sch_date</th>\n",
       "      <th>sch_time</th>\n",
       "      <th>days</th>\n",
       "    </tr>\n",
       "  </thead>\n",
       "  <tbody>\n",
       "    <tr>\n",
       "      <th>27033</th>\n",
       "      <td>7839272661752</td>\n",
       "      <td>5679978</td>\n",
       "      <td>M</td>\n",
       "      <td>2016-05-10 10:51:53+00:00</td>\n",
       "      <td>2016-05-09</td>\n",
       "      <td>38</td>\n",
       "      <td>RESISTÊNCIA</td>\n",
       "      <td>False</td>\n",
       "      <td>False</td>\n",
       "      <td>False</td>\n",
       "      <td>False</td>\n",
       "      <td>True</td>\n",
       "      <td>False</td>\n",
       "      <td>True</td>\n",
       "      <td>21-40</td>\n",
       "      <td>2016-05-10</td>\n",
       "      <td>10:51:53</td>\n",
       "      <td>-1 days</td>\n",
       "    </tr>\n",
       "    <tr>\n",
       "      <th>55226</th>\n",
       "      <td>7896293967868</td>\n",
       "      <td>5715660</td>\n",
       "      <td>F</td>\n",
       "      <td>2016-05-18 14:50:41+00:00</td>\n",
       "      <td>2016-05-17</td>\n",
       "      <td>19</td>\n",
       "      <td>SANTO ANTÔNIO</td>\n",
       "      <td>False</td>\n",
       "      <td>False</td>\n",
       "      <td>False</td>\n",
       "      <td>False</td>\n",
       "      <td>True</td>\n",
       "      <td>False</td>\n",
       "      <td>True</td>\n",
       "      <td>0-20</td>\n",
       "      <td>2016-05-18</td>\n",
       "      <td>14:50:41</td>\n",
       "      <td>-1 days</td>\n",
       "    </tr>\n",
       "    <tr>\n",
       "      <th>64175</th>\n",
       "      <td>24252258389979</td>\n",
       "      <td>5664962</td>\n",
       "      <td>F</td>\n",
       "      <td>2016-05-05 13:43:58+00:00</td>\n",
       "      <td>2016-05-04</td>\n",
       "      <td>22</td>\n",
       "      <td>CONSOLAÇÃO</td>\n",
       "      <td>False</td>\n",
       "      <td>False</td>\n",
       "      <td>False</td>\n",
       "      <td>False</td>\n",
       "      <td>False</td>\n",
       "      <td>False</td>\n",
       "      <td>True</td>\n",
       "      <td>21-40</td>\n",
       "      <td>2016-05-05</td>\n",
       "      <td>13:43:58</td>\n",
       "      <td>-1 days</td>\n",
       "    </tr>\n",
       "    <tr>\n",
       "      <th>71533</th>\n",
       "      <td>998231581612122</td>\n",
       "      <td>5686628</td>\n",
       "      <td>F</td>\n",
       "      <td>2016-05-11 13:49:20+00:00</td>\n",
       "      <td>2016-05-05</td>\n",
       "      <td>81</td>\n",
       "      <td>SANTO ANTÔNIO</td>\n",
       "      <td>False</td>\n",
       "      <td>False</td>\n",
       "      <td>False</td>\n",
       "      <td>False</td>\n",
       "      <td>False</td>\n",
       "      <td>False</td>\n",
       "      <td>True</td>\n",
       "      <td>81-100</td>\n",
       "      <td>2016-05-11</td>\n",
       "      <td>13:49:20</td>\n",
       "      <td>-6 days</td>\n",
       "    </tr>\n",
       "    <tr>\n",
       "      <th>72362</th>\n",
       "      <td>3787481966821</td>\n",
       "      <td>5655637</td>\n",
       "      <td>M</td>\n",
       "      <td>2016-05-04 06:50:57+00:00</td>\n",
       "      <td>2016-05-03</td>\n",
       "      <td>7</td>\n",
       "      <td>TABUAZEIRO</td>\n",
       "      <td>False</td>\n",
       "      <td>False</td>\n",
       "      <td>False</td>\n",
       "      <td>False</td>\n",
       "      <td>False</td>\n",
       "      <td>False</td>\n",
       "      <td>True</td>\n",
       "      <td>0-20</td>\n",
       "      <td>2016-05-04</td>\n",
       "      <td>06:50:57</td>\n",
       "      <td>-1 days</td>\n",
       "    </tr>\n",
       "  </tbody>\n",
       "</table>\n",
       "</div>"
      ],
      "text/plain": [
       "             patientid  appointmentid gender              scheduledday  \\\n",
       "27033    7839272661752        5679978      M 2016-05-10 10:51:53+00:00   \n",
       "55226    7896293967868        5715660      F 2016-05-18 14:50:41+00:00   \n",
       "64175   24252258389979        5664962      F 2016-05-05 13:43:58+00:00   \n",
       "71533  998231581612122        5686628      F 2016-05-11 13:49:20+00:00   \n",
       "72362    3787481966821        5655637      M 2016-05-04 06:50:57+00:00   \n",
       "\n",
       "      appointmentday  age  neighbourhood  scholarship  hypertension  diabetes  \\\n",
       "27033     2016-05-09   38    RESISTÊNCIA        False         False     False   \n",
       "55226     2016-05-17   19  SANTO ANTÔNIO        False         False     False   \n",
       "64175     2016-05-04   22     CONSOLAÇÃO        False         False     False   \n",
       "71533     2016-05-05   81  SANTO ANTÔNIO        False         False     False   \n",
       "72362     2016-05-03    7     TABUAZEIRO        False         False     False   \n",
       "\n",
       "       alcoholism  handicap  sms_received  no_show age_range   sch_date  \\\n",
       "27033       False      True         False     True     21-40 2016-05-10   \n",
       "55226       False      True         False     True      0-20 2016-05-18   \n",
       "64175       False     False         False     True     21-40 2016-05-05   \n",
       "71533       False     False         False     True    81-100 2016-05-11   \n",
       "72362       False     False         False     True      0-20 2016-05-04   \n",
       "\n",
       "       sch_time    days  \n",
       "27033  10:51:53 -1 days  \n",
       "55226  14:50:41 -1 days  \n",
       "64175  13:43:58 -1 days  \n",
       "71533  13:49:20 -6 days  \n",
       "72362  06:50:57 -1 days  "
      ]
     },
     "execution_count": 48,
     "metadata": {},
     "output_type": "execute_result"
    }
   ],
   "source": [
    "df_negative = df[df['days']< '0 days +00:00:00']\n",
    "df_negative"
   ]
  },
  {
   "cell_type": "markdown",
   "id": "15466c41",
   "metadata": {},
   "source": [
    "**While checking for the number of days between appointment date and schedule dates, it was found out that 5 patients has appointment dates fixed before the date it was scheduled. Therefore, these patients missed their appointments as well.**"
   ]
  },
  {
   "cell_type": "code",
   "execution_count": 49,
   "id": "b50fcbba",
   "metadata": {},
   "outputs": [],
   "source": [
    "df['days'] = df['days'].dt.days #Extract integer from days "
   ]
  },
  {
   "cell_type": "code",
   "execution_count": 50,
   "id": "df4dd220",
   "metadata": {},
   "outputs": [
    {
     "data": {
      "image/png": "[encoded data removed]",
      "text/plain": [
       "<Figure size 640x480 with 1 Axes>"
      ]
     },
     "metadata": {},
     "output_type": "display_data"
    }
   ],
   "source": [
    "df['days'].plot(kind = 'hist', title = 'Distribution of days between schedule and appointment days')\n",
    "plt.xlabel('Days'); #Plot of distribution of days between schedule and appointment days"
   ]
  },
  {
   "cell_type": "code",
   "execution_count": 51,
   "id": "5fe57f8c",
   "metadata": {},
   "outputs": [
    {
     "data": {
      "text/plain": [
       "71837"
      ]
     },
     "execution_count": 51,
     "metadata": {},
     "output_type": "execute_result"
    }
   ],
   "source": [
    "days2 = len(df.query('days > 0')) #Number of appointments with different schedule and appointment dates\n",
    "days2"
   ]
  },
  {
   "cell_type": "code",
   "execution_count": 52,
   "id": "d9d9cb01",
   "metadata": {},
   "outputs": [
    {
     "data": {
      "text/plain": [
       "20485"
      ]
     },
     "execution_count": 52,
     "metadata": {},
     "output_type": "execute_result"
    }
   ],
   "source": [
    "days2_no_show = len(df.query('days > 0 and no_show == True')) \n",
    "days2_no_show #Number of appointments with different schedule and appointment dates and also missed appointment"
   ]
  },
  {
   "cell_type": "code",
   "execution_count": 53,
   "id": "55fe4857",
   "metadata": {},
   "outputs": [
    {
     "data": {
      "text/plain": [
       "28.515945821791"
      ]
     },
     "execution_count": 53,
     "metadata": {},
     "output_type": "execute_result"
    }
   ],
   "source": [
    "days2_no_show/days2*100 "
   ]
  },
  {
   "cell_type": "markdown",
   "id": "790b89f5",
   "metadata": {},
   "source": [
    "**28.5% of patients that did not have the same schedule and appointment date did not show up for their appointments.**"
   ]
  },
  {
   "cell_type": "code",
   "execution_count": 54,
   "id": "7b1edb26",
   "metadata": {},
   "outputs": [],
   "source": [
    "#Extract year, month and day of week\n",
    "df['sch_year'] = df['sch_date'].dt.year\n",
    "df['sch_month'] = df['sch_date'].dt.month\n",
    "df['sch_dayofweek'] = df['sch_date'].dt.dayofweek\n",
    "df['appointment_month'] = df['appointmentday'].dt.month\n",
    "df['appointment_dayofweek'] = df['appointmentday'].dt.dayofweek"
   ]
  },
  {
   "cell_type": "code",
   "execution_count": 55,
   "id": "499bfad4",
   "metadata": {},
   "outputs": [
    {
     "data": {
      "text/plain": [
       "sch_month\n",
       "1        60\n",
       "2       280\n",
       "3      3608\n",
       "4     25299\n",
       "5     67295\n",
       "6     13723\n",
       "11        1\n",
       "12       61\n",
       "dtype: int64"
      ]
     },
     "execution_count": 55,
     "metadata": {},
     "output_type": "execute_result"
    }
   ],
   "source": [
    "df.groupby('sch_month').size() #Schedule months"
   ]
  },
  {
   "cell_type": "code",
   "execution_count": 56,
   "id": "dea9fbcc",
   "metadata": {},
   "outputs": [
    {
     "data": {
      "text/plain": [
       "appointment_month\n",
       "4     3227\n",
       "5    80694\n",
       "6    26406\n",
       "dtype: int64"
      ]
     },
     "execution_count": 56,
     "metadata": {},
     "output_type": "execute_result"
    }
   ],
   "source": [
    "df.groupby('appointment_month').size() #Appointment months"
   ]
  },
  {
   "cell_type": "markdown",
   "id": "2c35bd5d",
   "metadata": {},
   "source": [
    "**Appointments scheduled at January - June, November and December were booked to three months in 2016 (April, May and June).**"
   ]
  },
  {
   "cell_type": "code",
   "execution_count": 57,
   "id": "649e40f8",
   "metadata": {},
   "outputs": [
    {
     "data": {
      "text/plain": [
       "sch_dayofweek\n",
       "0    23044\n",
       "1    26111\n",
       "2    24223\n",
       "3    18044\n",
       "4    18881\n",
       "5       24\n",
       "dtype: int64"
      ]
     },
     "execution_count": 57,
     "metadata": {},
     "output_type": "execute_result"
    }
   ],
   "source": [
    "df.groupby('sch_dayofweek').size() #Schedule day of week (Monday - 0, Saturday - 5)"
   ]
  },
  {
   "cell_type": "code",
   "execution_count": 58,
   "id": "2c8198c5",
   "metadata": {},
   "outputs": [
    {
     "data": {
      "text/plain": [
       "appointment_dayofweek\n",
       "0    22678\n",
       "1    25584\n",
       "2    25824\n",
       "3    17217\n",
       "4    18985\n",
       "5       39\n",
       "dtype: int64"
      ]
     },
     "execution_count": 58,
     "metadata": {},
     "output_type": "execute_result"
    }
   ],
   "source": [
    "df.groupby('appointment_dayofweek').size() #Appointment day of week (Monday - 0, Saturday - 5)"
   ]
  },
  {
   "cell_type": "markdown",
   "id": "9b3e4d5c",
   "metadata": {},
   "source": [
    "**Apointment were mostly booked to Tuesdays, Wednesdays, and Mondays, and were least booked to Saturdays. There were no appointments scheduled on or booked to Sundays.**"
   ]
  },
  {
   "cell_type": "code",
   "execution_count": 59,
   "id": "86193e62",
   "metadata": {},
   "outputs": [
    {
     "data": {
      "text/plain": [
       "no_show  appointment_dayofweek\n",
       "False    0                        17997\n",
       "         1                        20448\n",
       "         2                        20740\n",
       "         3                        13882\n",
       "         4                        14952\n",
       "         5                           30\n",
       "True     0                         4681\n",
       "         1                         5136\n",
       "         2                         5084\n",
       "         3                         3335\n",
       "         4                         4033\n",
       "         5                            9\n",
       "dtype: int64"
      ]
     },
     "execution_count": 59,
     "metadata": {},
     "output_type": "execute_result"
    }
   ],
   "source": [
    "df.groupby(['no_show','appointment_dayofweek']).size() #No show appointments and day of week (Monday - 0, Saturday - 5)"
   ]
  },
  {
   "cell_type": "markdown",
   "id": "7d18de5e",
   "metadata": {},
   "source": [
    "**The table above shows that appointments were missed in descending order of Tuesdays, Wednesdays, Mondays, Fridays, Thursdays and Saturdays.**"
   ]
  },
  {
   "cell_type": "code",
   "execution_count": 60,
   "id": "7aa4c8a9",
   "metadata": {},
   "outputs": [
    {
     "data": {
      "image/png": "[encoded data removed]",
      "text/plain": [
       "<Figure size 640x480 with 1 Axes>"
      ]
     },
     "metadata": {},
     "output_type": "display_data"
    }
   ],
   "source": [
    "df.groupby(['no_show','appointment_dayofweek']).size().plot(kind='bar', title='Missed Appointments and Day of Week'); #Monday - 0, Saturday - 5"
   ]
  },
  {
   "cell_type": "code",
   "execution_count": 61,
   "id": "e6826cde",
   "metadata": {},
   "outputs": [
    {
     "data": {
      "text/plain": [
       "27"
      ]
     },
     "execution_count": 61,
     "metadata": {},
     "output_type": "execute_result"
    }
   ],
   "source": [
    "df['appointmentday'].nunique() #Total numbers of appointment days "
   ]
  },
  {
   "cell_type": "code",
   "execution_count": 62,
   "id": "901c68e9",
   "metadata": {},
   "outputs": [
    {
     "data": {
      "text/plain": [
       "appointmentday  no_show\n",
       "2016-04-29      False      2594\n",
       "                True        633\n",
       "2016-05-02      False      3511\n",
       "                True        859\n",
       "2016-05-03      False      3418\n",
       "                True        828\n",
       "2016-05-04      False      3189\n",
       "                True        972\n",
       "2016-05-05      False      3458\n",
       "                True        806\n",
       "2016-05-06      False      3076\n",
       "                True        795\n",
       "2016-05-09      False      3494\n",
       "                True       1015\n",
       "2016-05-10      False      3311\n",
       "                True        990\n",
       "2016-05-11      False      3582\n",
       "                True        883\n",
       "2016-05-12      False      3554\n",
       "                True        837\n",
       "2016-05-13      False      3074\n",
       "                True        903\n",
       "2016-05-14      False        30\n",
       "                True          9\n",
       "2016-05-16      False      3559\n",
       "                True       1047\n",
       "2016-05-17      False      3429\n",
       "                True        932\n",
       "2016-05-18      False      3478\n",
       "                True        887\n",
       "2016-05-19      False      3369\n",
       "                True        891\n",
       "2016-05-20      False      2926\n",
       "                True        897\n",
       "2016-05-24      False      3194\n",
       "                True        808\n",
       "2016-05-25      False      3148\n",
       "                True        757\n",
       "2016-05-30      False      3620\n",
       "                True        887\n",
       "2016-05-31      False      3507\n",
       "                True        764\n",
       "2016-06-01      False      3644\n",
       "                True        812\n",
       "2016-06-02      False      3501\n",
       "                True        801\n",
       "2016-06-03      False      3282\n",
       "                True        805\n",
       "2016-06-06      False      3813\n",
       "                True        873\n",
       "2016-06-07      False      3589\n",
       "                True        814\n",
       "2016-06-08      False      3699\n",
       "                True        773\n",
       "Name: no_show, dtype: int64"
      ]
     },
     "execution_count": 62,
     "metadata": {},
     "output_type": "execute_result"
    }
   ],
   "source": [
    "df.groupby(['appointmentday','no_show'])['no_show'].size() #Appointment dates and no shows"
   ]
  },
  {
   "cell_type": "code",
   "execution_count": 63,
   "id": "4ba778cb",
   "metadata": {},
   "outputs": [],
   "source": [
    "df['appointmentday'] = df['appointmentday'].dt.date"
   ]
  },
  {
   "cell_type": "code",
   "execution_count": 64,
   "id": "d89fcec2",
   "metadata": {},
   "outputs": [
    {
     "data": {
      "image/png": "[encoded data removed]",
      "text/plain": [
       "<Figure size 1500x500 with 1 Axes>"
      ]
     },
     "metadata": {},
     "output_type": "display_data"
    }
   ],
   "source": [
    "df.groupby(['appointmentday','no_show'])['no_show'].size().plot(kind='bar',figsize = (15,5));"
   ]
  },
  {
   "cell_type": "markdown",
   "id": "bc782a81",
   "metadata": {},
   "source": [
    "### 5. SMS Received"
   ]
  },
  {
   "cell_type": "code",
   "execution_count": 65,
   "id": "e7c765be",
   "metadata": {},
   "outputs": [
    {
     "data": {
      "image/png": "[encoded data removed]",
      "text/plain": [
       "<Figure size 640x480 with 1 Axes>"
      ]
     },
     "metadata": {},
     "output_type": "display_data"
    }
   ],
   "source": [
    "df_plot(df, 'sms_received')"
   ]
  },
  {
   "cell_type": "markdown",
   "id": "283bd68c",
   "metadata": {},
   "source": [
    "**32.1% of the patients received SMS notifications while 67.9% did not receive an SMS notification.**"
   ]
  },
  {
   "cell_type": "code",
   "execution_count": 66,
   "id": "acf67e15",
   "metadata": {},
   "outputs": [
    {
     "data": {
      "image/png": "[encoded data removed]",
      "text/plain": [
       "<Figure size 640x480 with 1 Axes>"
      ]
     },
     "metadata": {},
     "output_type": "display_data"
    }
   ],
   "source": [
    "#SMS notifications and no shows\n",
    "df[['sms_received','no_show']].value_counts().plot(kind='pie', autopct='%1.1f%%', title = 'SMS Notification and No-Show Appointments');"
   ]
  },
  {
   "cell_type": "markdown",
   "id": "f3dc38cc",
   "metadata": {},
   "source": [
    "**8.9% of patients that received SMS notifications missed their appointments while 56.5% of patients who did not receive SMS notifications did not miss their appointments.**"
   ]
  },
  {
   "cell_type": "markdown",
   "id": "59a7f011",
   "metadata": {},
   "source": [
    "### 6. Hypertension"
   ]
  },
  {
   "cell_type": "code",
   "execution_count": 67,
   "id": "0b2cd60c",
   "metadata": {},
   "outputs": [
    {
     "data": {
      "text/plain": [
       "hypertension  no_show\n",
       "False         False      70081\n",
       "              True       18530\n",
       "True          False      17968\n",
       "              True        3748\n",
       "Name: no_show, dtype: int64"
      ]
     },
     "execution_count": 67,
     "metadata": {},
     "output_type": "execute_result"
    }
   ],
   "source": [
    "df.groupby(['hypertension','no_show'])['no_show'].count()"
   ]
  },
  {
   "cell_type": "code",
   "execution_count": 68,
   "id": "ab7a3f8b",
   "metadata": {},
   "outputs": [
    {
     "data": {
      "image/png": "[encoded data removed]",
      "text/plain": [
       "<Figure size 640x480 with 1 Axes>"
      ]
     },
     "metadata": {},
     "output_type": "display_data"
    }
   ],
   "source": [
    "df_bar(df, 'hypertension', 'no_show')"
   ]
  },
  {
   "cell_type": "markdown",
   "id": "8abd7751",
   "metadata": {},
   "source": [
    "**Most patients that showed up for appointments were not hypertensive. Although a small value, 3748 appointments were missed by hypertensive patients.**"
   ]
  },
  {
   "cell_type": "markdown",
   "id": "dcad0f6d",
   "metadata": {},
   "source": [
    "### 7. Diabetes"
   ]
  },
  {
   "cell_type": "code",
   "execution_count": 69,
   "id": "b78c43b8",
   "metadata": {},
   "outputs": [
    {
     "data": {
      "text/plain": [
       "diabetes  no_show\n",
       "False     False      81571\n",
       "          True       20856\n",
       "True      False       6478\n",
       "          True        1422\n",
       "Name: no_show, dtype: int64"
      ]
     },
     "execution_count": 69,
     "metadata": {},
     "output_type": "execute_result"
    }
   ],
   "source": [
    "df.groupby(['diabetes','no_show'])['no_show'].count()"
   ]
  },
  {
   "cell_type": "code",
   "execution_count": 70,
   "id": "53160f91",
   "metadata": {},
   "outputs": [
    {
     "data": {
      "image/png": "[encoded data removed]",
      "text/plain": [
       "<Figure size 640x480 with 1 Axes>"
      ]
     },
     "metadata": {},
     "output_type": "display_data"
    }
   ],
   "source": [
    "df_bar(df, 'diabetes', 'no_show')"
   ]
  },
  {
   "cell_type": "markdown",
   "id": "b7dd7ba0",
   "metadata": {},
   "source": [
    "**Most patients who did not miss appointments were also not diabetic, while only 1422 appointments were missed by diabetic patients.**"
   ]
  },
  {
   "cell_type": "markdown",
   "id": "b19e889a",
   "metadata": {},
   "source": [
    "### 8. Alcoholism"
   ]
  },
  {
   "cell_type": "code",
   "execution_count": 71,
   "id": "a492b9d5",
   "metadata": {},
   "outputs": [
    {
     "data": {
      "text/plain": [
       "alcoholism  no_show\n",
       "False       False      85372\n",
       "            True       21603\n",
       "True        False       2677\n",
       "            True         675\n",
       "Name: no_show, dtype: int64"
      ]
     },
     "execution_count": 71,
     "metadata": {},
     "output_type": "execute_result"
    }
   ],
   "source": [
    "df.groupby(['alcoholism','no_show'])['no_show'].count()"
   ]
  },
  {
   "cell_type": "code",
   "execution_count": 72,
   "id": "295fb151",
   "metadata": {},
   "outputs": [
    {
     "data": {
      "image/png": "[encoded data removed]",
      "text/plain": [
       "<Figure size 640x480 with 1 Axes>"
      ]
     },
     "metadata": {},
     "output_type": "display_data"
    }
   ],
   "source": [
    "df_bar(df, 'alcoholism', 'no_show')"
   ]
  },
  {
   "cell_type": "markdown",
   "id": "47062a39",
   "metadata": {},
   "source": [
    "**Most patients who did not miss appointments were also not alcoholics, while only 675 appointments were missed by alcoholic patients.**"
   ]
  },
  {
   "cell_type": "markdown",
   "id": "6e4457fc",
   "metadata": {},
   "source": [
    "### 9. Handicaps"
   ]
  },
  {
   "cell_type": "code",
   "execution_count": 73,
   "id": "efbcccfc",
   "metadata": {},
   "outputs": [
    {
     "data": {
      "text/plain": [
       "handicap  no_show\n",
       "False     False      86373\n",
       "          True       21912\n",
       "True      False       1676\n",
       "          True         366\n",
       "Name: no_show, dtype: int64"
      ]
     },
     "execution_count": 73,
     "metadata": {},
     "output_type": "execute_result"
    }
   ],
   "source": [
    "df.groupby(['handicap','no_show'])['no_show'].count()"
   ]
  },
  {
   "cell_type": "code",
   "execution_count": 74,
   "id": "63169438",
   "metadata": {},
   "outputs": [
    {
     "data": {
      "image/png": "[encoded data removed]",
      "text/plain": [
       "<Figure size 640x480 with 1 Axes>"
      ]
     },
     "metadata": {},
     "output_type": "display_data"
    }
   ],
   "source": [
    "df_bar(df, 'handicap', 'no_show')"
   ]
  },
  {
   "cell_type": "markdown",
   "id": "2e68cdd0",
   "metadata": {},
   "source": [
    "**Most patients who did not miss appointments were not handicapped while 366 appointments booked by handicapped patients were missed.**"
   ]
  },
  {
   "cell_type": "markdown",
   "id": "6cd4cc25",
   "metadata": {},
   "source": [
    "### 9. Scholarship"
   ]
  },
  {
   "cell_type": "code",
   "execution_count": 75,
   "id": "f7caa157",
   "metadata": {},
   "outputs": [
    {
     "data": {
      "text/plain": [
       "scholarship  no_show\n",
       "False        False      79783\n",
       "             True       19701\n",
       "True         False       8266\n",
       "             True        2577\n",
       "Name: no_show, dtype: int64"
      ]
     },
     "execution_count": 75,
     "metadata": {},
     "output_type": "execute_result"
    }
   ],
   "source": [
    "df.groupby(['scholarship','no_show'])['no_show'].count()"
   ]
  },
  {
   "cell_type": "code",
   "execution_count": 76,
   "id": "63a4f15a",
   "metadata": {},
   "outputs": [
    {
     "data": {
      "image/png": "[encoded data removed]",
      "text/plain": [
       "<Figure size 640x480 with 1 Axes>"
      ]
     },
     "metadata": {},
     "output_type": "display_data"
    }
   ],
   "source": [
    "df_bar(df, 'scholarship', 'no_show')"
   ]
  },
  {
   "cell_type": "markdown",
   "id": "5733551c",
   "metadata": {},
   "source": [
    "**Most appointments that were not missed were booked by patients who are not enrolled in Brasilian welfare program 'Bolsa Família' while 2577 appointments booked by beneficiaries of the welfare program were missed.**"
   ]
  },
  {
   "cell_type": "markdown",
   "id": "d2881cdb",
   "metadata": {},
   "source": [
    "### 10. Combining factors "
   ]
  },
  {
   "cell_type": "code",
   "execution_count": 77,
   "id": "8b4c2bc8",
   "metadata": {},
   "outputs": [
    {
     "data": {
      "text/plain": [
       "316"
      ]
     },
     "execution_count": 77,
     "metadata": {},
     "output_type": "execute_result"
    }
   ],
   "source": [
    "len1 = len(df.query('hypertension == True and diabetes == True and handicap == True'))\n",
    "len1"
   ]
  },
  {
   "cell_type": "code",
   "execution_count": 78,
   "id": "d68c355b",
   "metadata": {},
   "outputs": [
    {
     "data": {
      "text/plain": [
       "47"
      ]
     },
     "execution_count": 78,
     "metadata": {},
     "output_type": "execute_result"
    }
   ],
   "source": [
    "len2 = len(df.query('hypertension == True and diabetes == True and handicap == True and no_show == True'))\n",
    "len2"
   ]
  },
  {
   "cell_type": "code",
   "execution_count": 79,
   "id": "3f930737",
   "metadata": {},
   "outputs": [
    {
     "data": {
      "text/plain": [
       "14.873417721518987"
      ]
     },
     "execution_count": 79,
     "metadata": {},
     "output_type": "execute_result"
    }
   ],
   "source": [
    "len2/len1*100"
   ]
  },
  {
   "cell_type": "code",
   "execution_count": 80,
   "id": "82c0520d",
   "metadata": {},
   "outputs": [
    {
     "data": {
      "text/plain": [
       "3501"
      ]
     },
     "execution_count": 80,
     "metadata": {},
     "output_type": "execute_result"
    }
   ],
   "source": [
    "len3 = len(df.query('scholarship == True and sms_received == True'))\n",
    "len3"
   ]
  },
  {
   "cell_type": "code",
   "execution_count": 81,
   "id": "363fce73",
   "metadata": {},
   "outputs": [
    {
     "data": {
      "text/plain": [
       "1184"
      ]
     },
     "execution_count": 81,
     "metadata": {},
     "output_type": "execute_result"
    }
   ],
   "source": [
    "len4 = len(df.query('scholarship == True and sms_received == True and no_show == True'))\n",
    "len4"
   ]
  },
  {
   "cell_type": "code",
   "execution_count": 82,
   "id": "b9f66843",
   "metadata": {},
   "outputs": [
    {
     "data": {
      "text/plain": [
       "33.818908883176235"
      ]
     },
     "execution_count": 82,
     "metadata": {},
     "output_type": "execute_result"
    }
   ],
   "source": [
    "len4/len3*100"
   ]
  },
  {
   "cell_type": "markdown",
   "id": "5d0a5183",
   "metadata": {},
   "source": [
    "**The above calculations show that 15% of patients that are hypertensive, diabetic and handicapped are likely to miss appointments while 34% of patients that receives both scholarships and sms notifications are likely to miss appointments.**"
   ]
  },
  {
   "cell_type": "markdown",
   "id": "c42e846f",
   "metadata": {},
   "source": [
    "### Correlations"
   ]
  },
  {
   "cell_type": "code",
   "execution_count": 83,
   "id": "647f14fb",
   "metadata": {},
   "outputs": [
    {
     "data": {
      "text/html": [
       "<div>\n",
       "<style scoped>\n",
       "    .dataframe tbody tr th:only-of-type {\n",
       "        vertical-align: middle;\n",
       "    }\n",
       "\n",
       "    .dataframe tbody tr th {\n",
       "        vertical-align: top;\n",
       "    }\n",
       "\n",
       "    .dataframe thead th {\n",
       "        text-align: right;\n",
       "    }\n",
       "</style>\n",
       "<table border=\"1\" class=\"dataframe\">\n",
       "  <thead>\n",
       "    <tr style=\"text-align: right;\">\n",
       "      <th></th>\n",
       "      <th>age</th>\n",
       "      <th>scholarship</th>\n",
       "      <th>hypertension</th>\n",
       "      <th>diabetes</th>\n",
       "      <th>alcoholism</th>\n",
       "      <th>handicap</th>\n",
       "      <th>sms_received</th>\n",
       "      <th>no_show</th>\n",
       "      <th>days</th>\n",
       "    </tr>\n",
       "  </thead>\n",
       "  <tbody>\n",
       "    <tr>\n",
       "      <th>age</th>\n",
       "      <td>1.000000</td>\n",
       "      <td>-0.092119</td>\n",
       "      <td>0.503676</td>\n",
       "      <td>0.291760</td>\n",
       "      <td>0.095686</td>\n",
       "      <td>0.081951</td>\n",
       "      <td>0.012774</td>\n",
       "      <td>-0.060794</td>\n",
       "      <td>0.034924</td>\n",
       "    </tr>\n",
       "    <tr>\n",
       "      <th>scholarship</th>\n",
       "      <td>-0.092119</td>\n",
       "      <td>1.000000</td>\n",
       "      <td>-0.019241</td>\n",
       "      <td>-0.024612</td>\n",
       "      <td>0.035224</td>\n",
       "      <td>-0.009192</td>\n",
       "      <td>0.001202</td>\n",
       "      <td>0.029391</td>\n",
       "      <td>-0.030516</td>\n",
       "    </tr>\n",
       "    <tr>\n",
       "      <th>hypertension</th>\n",
       "      <td>0.503676</td>\n",
       "      <td>-0.019241</td>\n",
       "      <td>1.000000</td>\n",
       "      <td>0.432264</td>\n",
       "      <td>0.088087</td>\n",
       "      <td>0.081366</td>\n",
       "      <td>-0.006238</td>\n",
       "      <td>-0.036176</td>\n",
       "      <td>-0.017193</td>\n",
       "    </tr>\n",
       "    <tr>\n",
       "      <th>diabetes</th>\n",
       "      <td>0.291760</td>\n",
       "      <td>-0.024612</td>\n",
       "      <td>0.432264</td>\n",
       "      <td>1.000000</td>\n",
       "      <td>0.018634</td>\n",
       "      <td>0.054716</td>\n",
       "      <td>-0.014782</td>\n",
       "      <td>-0.015169</td>\n",
       "      <td>-0.027160</td>\n",
       "    </tr>\n",
       "    <tr>\n",
       "      <th>alcoholism</th>\n",
       "      <td>0.095686</td>\n",
       "      <td>0.035224</td>\n",
       "      <td>0.088087</td>\n",
       "      <td>0.018634</td>\n",
       "      <td>1.000000</td>\n",
       "      <td>0.003118</td>\n",
       "      <td>-0.026080</td>\n",
       "      <td>-0.000245</td>\n",
       "      <td>-0.038649</td>\n",
       "    </tr>\n",
       "    <tr>\n",
       "      <th>handicap</th>\n",
       "      <td>0.081951</td>\n",
       "      <td>-0.009192</td>\n",
       "      <td>0.081366</td>\n",
       "      <td>0.054716</td>\n",
       "      <td>0.003118</td>\n",
       "      <td>1.000000</td>\n",
       "      <td>-0.024031</td>\n",
       "      <td>-0.007762</td>\n",
       "      <td>-0.020441</td>\n",
       "    </tr>\n",
       "    <tr>\n",
       "      <th>sms_received</th>\n",
       "      <td>0.012774</td>\n",
       "      <td>0.001202</td>\n",
       "      <td>-0.006238</td>\n",
       "      <td>-0.014782</td>\n",
       "      <td>-0.026080</td>\n",
       "      <td>-0.024031</td>\n",
       "      <td>1.000000</td>\n",
       "      <td>0.126678</td>\n",
       "      <td>0.398502</td>\n",
       "    </tr>\n",
       "    <tr>\n",
       "      <th>no_show</th>\n",
       "      <td>-0.060794</td>\n",
       "      <td>0.029391</td>\n",
       "      <td>-0.036176</td>\n",
       "      <td>-0.015169</td>\n",
       "      <td>-0.000245</td>\n",
       "      <td>-0.007762</td>\n",
       "      <td>0.126678</td>\n",
       "      <td>1.000000</td>\n",
       "      <td>0.186062</td>\n",
       "    </tr>\n",
       "    <tr>\n",
       "      <th>days</th>\n",
       "      <td>0.034924</td>\n",
       "      <td>-0.030516</td>\n",
       "      <td>-0.017193</td>\n",
       "      <td>-0.027160</td>\n",
       "      <td>-0.038649</td>\n",
       "      <td>-0.020441</td>\n",
       "      <td>0.398502</td>\n",
       "      <td>0.186062</td>\n",
       "      <td>1.000000</td>\n",
       "    </tr>\n",
       "  </tbody>\n",
       "</table>\n",
       "</div>"
      ],
      "text/plain": [
       "                   age  scholarship  hypertension  diabetes  alcoholism  \\\n",
       "age           1.000000    -0.092119      0.503676  0.291760    0.095686   \n",
       "scholarship  -0.092119     1.000000     -0.019241 -0.024612    0.035224   \n",
       "hypertension  0.503676    -0.019241      1.000000  0.432264    0.088087   \n",
       "diabetes      0.291760    -0.024612      0.432264  1.000000    0.018634   \n",
       "alcoholism    0.095686     0.035224      0.088087  0.018634    1.000000   \n",
       "handicap      0.081951    -0.009192      0.081366  0.054716    0.003118   \n",
       "sms_received  0.012774     0.001202     -0.006238 -0.014782   -0.026080   \n",
       "no_show      -0.060794     0.029391     -0.036176 -0.015169   -0.000245   \n",
       "days          0.034924    -0.030516     -0.017193 -0.027160   -0.038649   \n",
       "\n",
       "              handicap  sms_received   no_show      days  \n",
       "age           0.081951      0.012774 -0.060794  0.034924  \n",
       "scholarship  -0.009192      0.001202  0.029391 -0.030516  \n",
       "hypertension  0.081366     -0.006238 -0.036176 -0.017193  \n",
       "diabetes      0.054716     -0.014782 -0.015169 -0.027160  \n",
       "alcoholism    0.003118     -0.026080 -0.000245 -0.038649  \n",
       "handicap      1.000000     -0.024031 -0.007762 -0.020441  \n",
       "sms_received -0.024031      1.000000  0.126678  0.398502  \n",
       "no_show      -0.007762      0.126678  1.000000  0.186062  \n",
       "days         -0.020441      0.398502  0.186062  1.000000  "
      ]
     },
     "execution_count": 83,
     "metadata": {},
     "output_type": "execute_result"
    }
   ],
   "source": [
    "df[['age','scholarship','hypertension','diabetes','alcoholism','handicap','sms_received','no_show','days']].corr()"
   ]
  },
  {
   "cell_type": "code",
   "execution_count": 84,
   "id": "a2ed6e24",
   "metadata": {},
   "outputs": [
    {
     "data": {
      "text/html": [
       "<div>\n",
       "<style scoped>\n",
       "    .dataframe tbody tr th:only-of-type {\n",
       "        vertical-align: middle;\n",
       "    }\n",
       "\n",
       "    .dataframe tbody tr th {\n",
       "        vertical-align: top;\n",
       "    }\n",
       "\n",
       "    .dataframe thead th {\n",
       "        text-align: right;\n",
       "    }\n",
       "</style>\n",
       "<table border=\"1\" class=\"dataframe\">\n",
       "  <thead>\n",
       "    <tr style=\"text-align: right;\">\n",
       "      <th></th>\n",
       "      <th>patientid</th>\n",
       "      <th>appointmentid</th>\n",
       "      <th>gender</th>\n",
       "      <th>scheduledday</th>\n",
       "      <th>appointmentday</th>\n",
       "      <th>age</th>\n",
       "      <th>neighbourhood</th>\n",
       "      <th>scholarship</th>\n",
       "      <th>hypertension</th>\n",
       "      <th>diabetes</th>\n",
       "      <th>...</th>\n",
       "      <th>no_show</th>\n",
       "      <th>age_range</th>\n",
       "      <th>sch_date</th>\n",
       "      <th>sch_time</th>\n",
       "      <th>days</th>\n",
       "      <th>sch_year</th>\n",
       "      <th>sch_month</th>\n",
       "      <th>sch_dayofweek</th>\n",
       "      <th>appointment_month</th>\n",
       "      <th>appointment_dayofweek</th>\n",
       "    </tr>\n",
       "  </thead>\n",
       "  <tbody>\n",
       "    <tr>\n",
       "      <th>5</th>\n",
       "      <td>95985133231274</td>\n",
       "      <td>5626772</td>\n",
       "      <td>F</td>\n",
       "      <td>2016-04-27 08:36:51+00:00</td>\n",
       "      <td>2016-04-29</td>\n",
       "      <td>76</td>\n",
       "      <td>REPÚBLICA</td>\n",
       "      <td>False</td>\n",
       "      <td>True</td>\n",
       "      <td>False</td>\n",
       "      <td>...</td>\n",
       "      <td>False</td>\n",
       "      <td>61-80</td>\n",
       "      <td>2016-04-27</td>\n",
       "      <td>08:36:51</td>\n",
       "      <td>2</td>\n",
       "      <td>2016</td>\n",
       "      <td>4</td>\n",
       "      <td>2</td>\n",
       "      <td>4</td>\n",
       "      <td>4</td>\n",
       "    </tr>\n",
       "    <tr>\n",
       "      <th>6</th>\n",
       "      <td>733688164476661</td>\n",
       "      <td>5630279</td>\n",
       "      <td>F</td>\n",
       "      <td>2016-04-27 15:05:12+00:00</td>\n",
       "      <td>2016-04-29</td>\n",
       "      <td>23</td>\n",
       "      <td>GOIABEIRAS</td>\n",
       "      <td>False</td>\n",
       "      <td>False</td>\n",
       "      <td>False</td>\n",
       "      <td>...</td>\n",
       "      <td>True</td>\n",
       "      <td>21-40</td>\n",
       "      <td>2016-04-27</td>\n",
       "      <td>15:05:12</td>\n",
       "      <td>2</td>\n",
       "      <td>2016</td>\n",
       "      <td>4</td>\n",
       "      <td>2</td>\n",
       "      <td>4</td>\n",
       "      <td>4</td>\n",
       "    </tr>\n",
       "    <tr>\n",
       "      <th>7</th>\n",
       "      <td>3449833394123</td>\n",
       "      <td>5630575</td>\n",
       "      <td>F</td>\n",
       "      <td>2016-04-27 15:39:58+00:00</td>\n",
       "      <td>2016-04-29</td>\n",
       "      <td>39</td>\n",
       "      <td>GOIABEIRAS</td>\n",
       "      <td>False</td>\n",
       "      <td>False</td>\n",
       "      <td>False</td>\n",
       "      <td>...</td>\n",
       "      <td>True</td>\n",
       "      <td>21-40</td>\n",
       "      <td>2016-04-27</td>\n",
       "      <td>15:39:58</td>\n",
       "      <td>2</td>\n",
       "      <td>2016</td>\n",
       "      <td>4</td>\n",
       "      <td>2</td>\n",
       "      <td>4</td>\n",
       "      <td>4</td>\n",
       "    </tr>\n",
       "    <tr>\n",
       "      <th>9</th>\n",
       "      <td>78124564369297</td>\n",
       "      <td>5629123</td>\n",
       "      <td>F</td>\n",
       "      <td>2016-04-27 12:48:25+00:00</td>\n",
       "      <td>2016-04-29</td>\n",
       "      <td>19</td>\n",
       "      <td>CONQUISTA</td>\n",
       "      <td>False</td>\n",
       "      <td>False</td>\n",
       "      <td>False</td>\n",
       "      <td>...</td>\n",
       "      <td>False</td>\n",
       "      <td>0-20</td>\n",
       "      <td>2016-04-27</td>\n",
       "      <td>12:48:25</td>\n",
       "      <td>2</td>\n",
       "      <td>2016</td>\n",
       "      <td>4</td>\n",
       "      <td>2</td>\n",
       "      <td>4</td>\n",
       "      <td>4</td>\n",
       "    </tr>\n",
       "    <tr>\n",
       "      <th>10</th>\n",
       "      <td>734536231958495</td>\n",
       "      <td>5630213</td>\n",
       "      <td>F</td>\n",
       "      <td>2016-04-27 14:58:11+00:00</td>\n",
       "      <td>2016-04-29</td>\n",
       "      <td>30</td>\n",
       "      <td>NOVA PALESTINA</td>\n",
       "      <td>False</td>\n",
       "      <td>False</td>\n",
       "      <td>False</td>\n",
       "      <td>...</td>\n",
       "      <td>False</td>\n",
       "      <td>21-40</td>\n",
       "      <td>2016-04-27</td>\n",
       "      <td>14:58:11</td>\n",
       "      <td>2</td>\n",
       "      <td>2016</td>\n",
       "      <td>4</td>\n",
       "      <td>2</td>\n",
       "      <td>4</td>\n",
       "      <td>4</td>\n",
       "    </tr>\n",
       "  </tbody>\n",
       "</table>\n",
       "<p>5 rows × 23 columns</p>\n",
       "</div>"
      ],
      "text/plain": [
       "          patientid  appointmentid gender              scheduledday  \\\n",
       "5    95985133231274        5626772      F 2016-04-27 08:36:51+00:00   \n",
       "6   733688164476661        5630279      F 2016-04-27 15:05:12+00:00   \n",
       "7     3449833394123        5630575      F 2016-04-27 15:39:58+00:00   \n",
       "9    78124564369297        5629123      F 2016-04-27 12:48:25+00:00   \n",
       "10  734536231958495        5630213      F 2016-04-27 14:58:11+00:00   \n",
       "\n",
       "   appointmentday  age   neighbourhood  scholarship  hypertension  diabetes  \\\n",
       "5      2016-04-29   76       REPÚBLICA        False          True     False   \n",
       "6      2016-04-29   23      GOIABEIRAS        False         False     False   \n",
       "7      2016-04-29   39      GOIABEIRAS        False         False     False   \n",
       "9      2016-04-29   19       CONQUISTA        False         False     False   \n",
       "10     2016-04-29   30  NOVA PALESTINA        False         False     False   \n",
       "\n",
       "    ...  no_show  age_range   sch_date  sch_time days sch_year sch_month  \\\n",
       "5   ...    False      61-80 2016-04-27  08:36:51    2     2016         4   \n",
       "6   ...     True      21-40 2016-04-27  15:05:12    2     2016         4   \n",
       "7   ...     True      21-40 2016-04-27  15:39:58    2     2016         4   \n",
       "9   ...    False       0-20 2016-04-27  12:48:25    2     2016         4   \n",
       "10  ...    False      21-40 2016-04-27  14:58:11    2     2016         4   \n",
       "\n",
       "    sch_dayofweek  appointment_month  appointment_dayofweek  \n",
       "5               2                  4                      4  \n",
       "6               2                  4                      4  \n",
       "7               2                  4                      4  \n",
       "9               2                  4                      4  \n",
       "10              2                  4                      4  \n",
       "\n",
       "[5 rows x 23 columns]"
      ]
     },
     "execution_count": 84,
     "metadata": {},
     "output_type": "execute_result"
    }
   ],
   "source": [
    "df2 = df[df['days'] > 0] #Patients that have differences between schedule date and appointment date\n",
    "df2.head()"
   ]
  },
  {
   "cell_type": "code",
   "execution_count": 85,
   "id": "dc845c55",
   "metadata": {},
   "outputs": [
    {
     "data": {
      "text/html": [
       "<div>\n",
       "<style scoped>\n",
       "    .dataframe tbody tr th:only-of-type {\n",
       "        vertical-align: middle;\n",
       "    }\n",
       "\n",
       "    .dataframe tbody tr th {\n",
       "        vertical-align: top;\n",
       "    }\n",
       "\n",
       "    .dataframe thead th {\n",
       "        text-align: right;\n",
       "    }\n",
       "</style>\n",
       "<table border=\"1\" class=\"dataframe\">\n",
       "  <thead>\n",
       "    <tr style=\"text-align: right;\">\n",
       "      <th></th>\n",
       "      <th>age</th>\n",
       "      <th>scholarship</th>\n",
       "      <th>hypertension</th>\n",
       "      <th>diabetes</th>\n",
       "      <th>alcoholism</th>\n",
       "      <th>handicap</th>\n",
       "      <th>sms_received</th>\n",
       "      <th>no_show</th>\n",
       "      <th>days</th>\n",
       "    </tr>\n",
       "  </thead>\n",
       "  <tbody>\n",
       "    <tr>\n",
       "      <th>age</th>\n",
       "      <td>1.000000</td>\n",
       "      <td>-0.102835</td>\n",
       "      <td>0.500018</td>\n",
       "      <td>0.284050</td>\n",
       "      <td>0.079987</td>\n",
       "      <td>0.083014</td>\n",
       "      <td>-0.042486</td>\n",
       "      <td>-0.101549</td>\n",
       "      <td>-0.008582</td>\n",
       "    </tr>\n",
       "    <tr>\n",
       "      <th>scholarship</th>\n",
       "      <td>-0.102835</td>\n",
       "      <td>1.000000</td>\n",
       "      <td>-0.027328</td>\n",
       "      <td>-0.025247</td>\n",
       "      <td>0.030770</td>\n",
       "      <td>-0.009014</td>\n",
       "      <td>0.020525</td>\n",
       "      <td>0.045881</td>\n",
       "      <td>-0.026455</td>\n",
       "    </tr>\n",
       "    <tr>\n",
       "      <th>hypertension</th>\n",
       "      <td>0.500018</td>\n",
       "      <td>-0.027328</td>\n",
       "      <td>1.000000</td>\n",
       "      <td>0.424797</td>\n",
       "      <td>0.085947</td>\n",
       "      <td>0.086346</td>\n",
       "      <td>-0.037060</td>\n",
       "      <td>-0.057367</td>\n",
       "      <td>-0.051113</td>\n",
       "    </tr>\n",
       "    <tr>\n",
       "      <th>diabetes</th>\n",
       "      <td>0.284050</td>\n",
       "      <td>-0.025247</td>\n",
       "      <td>0.424797</td>\n",
       "      <td>1.000000</td>\n",
       "      <td>0.024290</td>\n",
       "      <td>0.058614</td>\n",
       "      <td>-0.031504</td>\n",
       "      <td>-0.022438</td>\n",
       "      <td>-0.048162</td>\n",
       "    </tr>\n",
       "    <tr>\n",
       "      <th>alcoholism</th>\n",
       "      <td>0.079987</td>\n",
       "      <td>0.030770</td>\n",
       "      <td>0.085947</td>\n",
       "      <td>0.024290</td>\n",
       "      <td>1.000000</td>\n",
       "      <td>0.009095</td>\n",
       "      <td>-0.008744</td>\n",
       "      <td>0.019929</td>\n",
       "      <td>-0.029123</td>\n",
       "    </tr>\n",
       "    <tr>\n",
       "      <th>handicap</th>\n",
       "      <td>0.083014</td>\n",
       "      <td>-0.009014</td>\n",
       "      <td>0.086346</td>\n",
       "      <td>0.058614</td>\n",
       "      <td>0.009095</td>\n",
       "      <td>1.000000</td>\n",
       "      <td>-0.020882</td>\n",
       "      <td>-0.009904</td>\n",
       "      <td>-0.015725</td>\n",
       "    </tr>\n",
       "    <tr>\n",
       "      <th>sms_received</th>\n",
       "      <td>-0.042486</td>\n",
       "      <td>0.020525</td>\n",
       "      <td>-0.037060</td>\n",
       "      <td>-0.031504</td>\n",
       "      <td>-0.008744</td>\n",
       "      <td>-0.020882</td>\n",
       "      <td>1.000000</td>\n",
       "      <td>-0.020328</td>\n",
       "      <td>0.202220</td>\n",
       "    </tr>\n",
       "    <tr>\n",
       "      <th>no_show</th>\n",
       "      <td>-0.101549</td>\n",
       "      <td>0.045881</td>\n",
       "      <td>-0.057367</td>\n",
       "      <td>-0.022438</td>\n",
       "      <td>0.019929</td>\n",
       "      <td>-0.009904</td>\n",
       "      <td>-0.020328</td>\n",
       "      <td>1.000000</td>\n",
       "      <td>0.060173</td>\n",
       "    </tr>\n",
       "    <tr>\n",
       "      <th>days</th>\n",
       "      <td>-0.008582</td>\n",
       "      <td>-0.026455</td>\n",
       "      <td>-0.051113</td>\n",
       "      <td>-0.048162</td>\n",
       "      <td>-0.029123</td>\n",
       "      <td>-0.015725</td>\n",
       "      <td>0.202220</td>\n",
       "      <td>0.060173</td>\n",
       "      <td>1.000000</td>\n",
       "    </tr>\n",
       "  </tbody>\n",
       "</table>\n",
       "</div>"
      ],
      "text/plain": [
       "                   age  scholarship  hypertension  diabetes  alcoholism  \\\n",
       "age           1.000000    -0.102835      0.500018  0.284050    0.079987   \n",
       "scholarship  -0.102835     1.000000     -0.027328 -0.025247    0.030770   \n",
       "hypertension  0.500018    -0.027328      1.000000  0.424797    0.085947   \n",
       "diabetes      0.284050    -0.025247      0.424797  1.000000    0.024290   \n",
       "alcoholism    0.079987     0.030770      0.085947  0.024290    1.000000   \n",
       "handicap      0.083014    -0.009014      0.086346  0.058614    0.009095   \n",
       "sms_received -0.042486     0.020525     -0.037060 -0.031504   -0.008744   \n",
       "no_show      -0.101549     0.045881     -0.057367 -0.022438    0.019929   \n",
       "days         -0.008582    -0.026455     -0.051113 -0.048162   -0.029123   \n",
       "\n",
       "              handicap  sms_received   no_show      days  \n",
       "age           0.083014     -0.042486 -0.101549 -0.008582  \n",
       "scholarship  -0.009014      0.020525  0.045881 -0.026455  \n",
       "hypertension  0.086346     -0.037060 -0.057367 -0.051113  \n",
       "diabetes      0.058614     -0.031504 -0.022438 -0.048162  \n",
       "alcoholism    0.009095     -0.008744  0.019929 -0.029123  \n",
       "handicap      1.000000     -0.020882 -0.009904 -0.015725  \n",
       "sms_received -0.020882      1.000000 -0.020328  0.202220  \n",
       "no_show      -0.009904     -0.020328  1.000000  0.060173  \n",
       "days         -0.015725      0.202220  0.060173  1.000000  "
      ]
     },
     "execution_count": 85,
     "metadata": {},
     "output_type": "execute_result"
    }
   ],
   "source": [
    "df2[['age','scholarship','hypertension','diabetes','alcoholism','handicap','sms_received','no_show','days']].corr()"
   ]
  },
  {
   "cell_type": "markdown",
   "id": "ae98bba6",
   "metadata": {},
   "source": [
    "## Conclusion"
   ]
  },
  {
   "cell_type": "markdown",
   "id": "3976d5f4",
   "metadata": {},
   "source": [
    "After data cleaning, 110327 of 110527 rows were left. Of this, 20.2% (22278) of appointments were missed. Analysis of the data revealed that most appointments were scheduled by patients between the ages of 41-60 and 21-40 while patients above the age of 81 were the least. However, patients between 21-40 and 0-20 missed their appointments mostly. This can be assumed to be caused by factors such as work schedules and need for guardian for those between 0-20.\n",
    "\n",
    "In terms of gender, more females booked appointments thus they also missed more appointments. However, by comparing the mean, it shows that both gender did not show up for appointments at the same rate.\n",
    "\n",
    "Analysis of the schedule and appointments dates revealed that for this dataset, scheduling started from '2015-11-10' and ended '2016-06-08' while appointments began '2016-04-29' and ended '2016-06-08'. Therefore, some patients had no difference between schedule and appointment dates (35%) and they were very less likely to miss appointments, while 28.5% of patients who had to wait missed their appointments. The average days for waiting is 10 days with a maximum of 179 days. Through analysis, I also found out that five(5) patients made errors while choosing appointments dates by choosing dates before the schedule dates. As a result, these patients had 'no shows'. \n",
    "\n",
    "Patients that were not hypertensive or diabetic or handicapped or alcoholic mostly showed up for appointments. Also, patients that did not get SMS notifications or scholarship mostly showed up for appointments. While factors such as SMS and scholarships are supposed to make patients show up for appointments, 34% of patients who got the two missed their appointments. Only 14% of patients that were hypertensive, diabetic and handicapped missed their appointments. \n",
    "\n",
    "However, there is a weakly negative correlation between no show and hypertension, no show and diabetes, no show and handicap, and no show and alcoholic while there is a weakly positive correlation between no show and scholarship, and no show and sms received.\n",
    "\n",
    "Limitation of this analysis include that the individual characteristics of the patients were not studied. For example, if a patients missed more appointments because they had more appointments scheduled for the same day. One other limitation is that the data only included appointments dates for 27 days while they were scheduled for 8 months. "
   ]
  },
  {
   "cell_type": "markdown",
   "id": "3daeed0c",
   "metadata": {},
   "source": [
    "## References"
   ]
  },
  {
   "cell_type": "markdown",
   "id": "7934c786",
   "metadata": {},
   "source": [
    "Link to dataset: [Kaggle](https://www.google.com/url?q=https://www.kaggle.com/joniarroba/noshowappointments&sa=D&ust=1532469042118000)"
   ]
  }
 ],
 "metadata": {
  "kernelspec": {
   "display_name": "Python 3 (ipykernel)",
   "language": "python",
   "name": "python3"
  },
  "language_info": {
   "codemirror_mode": {
    "name": "ipython",
    "version": 3
   },
   "file_extension": ".py",
   "mimetype": "text/x-python",
   "name": "python",
   "nbconvert_exporter": "python",
   "pygments_lexer": "ipython3",
   "version": "3.9.13"
  }
 },
 "nbformat": 4,
 "nbformat_minor": 5
}
